{
  "cells": [
    {
      "cell_type": "markdown",
      "metadata": {
        "id": "view-in-github",
        "colab_type": "text"
      },
      "source": [
        "<a href=\"https://colab.research.google.com/github/Kavyapm1960/project/blob/main/trans_new.ipynb\" target=\"_parent\"><img src=\"https://colab.research.google.com/assets/colab-badge.svg\" alt=\"Open In Colab\"/></a>"
      ]
    },
    {
      "cell_type": "code",
      "execution_count": null,
      "metadata": {
        "colab": {
          "base_uri": "https://localhost:8080/"
        },
        "id": "Lmx744bFPrEk",
        "outputId": "c731bc9c-270f-48eb-f7de-438782dbdc64"
      },
      "outputs": [
        {
          "name": "stdout",
          "output_type": "stream",
          "text": [
            "Drive already mounted at /content/drive; to attempt to forcibly remount, call drive.mount(\"/content/drive\", force_remount=True).\n"
          ]
        }
      ],
      "source": [
        "from google.colab import drive\n",
        "drive.mount('/content/drive')"
      ]
    },
    {
      "cell_type": "code",
      "source": [
        "import numpy as np\n",
        "from tensorflow.keras.models import Model\n",
        "from tensorflow.keras.layers import Input, LSTM, Dense, Embedding\n",
        "from tensorflow.keras.preprocessing.text import Tokenizer\n",
        "from tensorflow.keras.preprocessing.sequence import pad_sequences\n",
        "from nltk.translate.bleu_score import corpus_bleu\n",
        "\n",
        "# Load and preprocess the data\n",
        "with open('/content/drive/MyDrive/project-trans/small_vocab_en.txt', 'r', encoding='utf-8') as file:\n",
        "    english_sentences = file.read().split('\\n')\n",
        "\n",
        "with open('/content/drive/MyDrive/project-trans/small_vocab_fr.txt', 'r', encoding='utf-8') as file:\n",
        "    french_sentences = file.read().split('\\n')\n",
        "\n",
        "# Tokenization\n",
        "tokenizer_eng = Tokenizer()\n",
        "tokenizer_eng.fit_on_texts(english_sentences)\n",
        "eng_sequences = tokenizer_eng.texts_to_sequences(english_sentences)\n",
        "\n",
        "tokenizer_fr = Tokenizer()\n",
        "tokenizer_fr.fit_on_texts(french_sentences)\n",
        "fr_sequences = tokenizer_fr.texts_to_sequences(french_sentences)\n",
        "\n",
        "# Padding sequences\n",
        "max_len_eng = max(len(seq) for seq in eng_sequences)\n",
        "max_len_fr = max(len(seq) for seq in fr_sequences)\n",
        "\n",
        "eng_sequences_padded = pad_sequences(eng_sequences, maxlen=max_len_eng, padding='post')\n",
        "fr_sequences_padded = pad_sequences(fr_sequences, maxlen=max_len_fr, padding='post')\n",
        "\n",
        "# Vocabulary sizes\n",
        "num_encoder_tokens = len(tokenizer_eng.word_index) + 1\n",
        "num_decoder_tokens = len(tokenizer_fr.word_index) + 1\n",
        "\n",
        "# Define model\n",
        "latent_dim = 256\n",
        "\n",
        "encoder_inputs = Input(shape=(None,))\n",
        "encoder_emb = Embedding(num_encoder_tokens, latent_dim, mask_zero=True)(encoder_inputs)\n",
        "encoder_lstm = LSTM(latent_dim, return_state=True)\n",
        "encoder_outputs, state_h, state_c = encoder_lstm(encoder_emb)\n",
        "encoder_states = [state_h, state_c]\n",
        "\n",
        "decoder_inputs = Input(shape=(None,))\n",
        "decoder_emb = Embedding(num_decoder_tokens, latent_dim, mask_zero=True)(decoder_inputs)\n",
        "decoder_lstm = LSTM(latent_dim, return_sequences=True, return_state=True)\n",
        "decoder_outputs, _, _ = decoder_lstm(decoder_emb, initial_state=encoder_states)\n",
        "decoder_dense = Dense(num_decoder_tokens, activation='softmax')\n",
        "decoder_outputs = decoder_dense(decoder_outputs)\n",
        "\n",
        "model = Model([encoder_inputs, decoder_inputs], decoder_outputs)\n",
        "\n",
        "# Compile and train the model\n",
        "model.compile(optimizer='adam', loss='sparse_categorical_crossentropy', metrics=['accuracy'])\n",
        "history = model.fit([eng_sequences_padded, fr_sequences_padded[:,:-1]], fr_sequences_padded[:,1:],\n",
        "                    batch_size=64, epochs=1, validation_split=0.2)\n",
        "\n",
        "# Train-test split\n",
        "num_samples = len(eng_sequences_padded)\n",
        "train_size = int(0.8 * num_samples)\n",
        "\n",
        "eng_train, eng_test = eng_sequences_padded[:train_size], eng_sequences_padded[train_size:]\n",
        "fr_train, fr_test = fr_sequences_padded[:train_size], fr_sequences_padded[train_size:]\n",
        "\n",
        "# Evaluate the model on train and test sets\n",
        "train_loss, train_accuracy = model.evaluate([eng_train, fr_train[:,:-1]], fr_train[:,1:])\n",
        "test_loss, test_accuracy = model.evaluate([eng_test, fr_test[:,:-1]], fr_test[:,1:])\n",
        "\n",
        "print(\"Train Loss:\", train_loss)\n",
        "print(\"Train Accuracy:\", train_accuracy)\n",
        "print(\"Test Loss:\", test_loss)\n",
        "print(\"Test Accuracy:\", test_accuracy)\n",
        "\n",
        "# Calculate BLEU score on test set\n",
        "#actual, predicted = [], []\n",
        "#for i in range(len(eng_test)):\n",
        " #   input_seq = eng_test[i:i+1]\n",
        "  #  actual_seq = fr_test[i:i+1, 1:]\n",
        "   # decoded_sentence = decode_sequence(input_seq)\n",
        "    #predicted.append(decoded_sentence.split())\n",
        "    #actual.append([fr_test[i, j] for j in range(1, fr_test.shape[1]) if fr_test[i, j] != 0])\n",
        "\n",
        "#bleu_score = corpus_bleu(actual, predicted)\n",
        "#print(\"BLEU Score:\", bleu_score)\n"
      ],
      "metadata": {
        "colab": {
          "base_uri": "https://localhost:8080/"
        },
        "id": "Wvc1FhorTvad",
        "outputId": "ba3fbb95-1a30-47dd-83f9-f5d7bacc84b4"
      },
      "execution_count": 2,
      "outputs": [
        {
          "output_type": "stream",
          "name": "stdout",
          "text": [
            "1724/1724 [==============================] - 507s 286ms/step - loss: 0.8074 - accuracy: 0.7763 - val_loss: 0.1337 - val_accuracy: 0.9671\n",
            "3447/3447 [==============================] - 180s 52ms/step - loss: 0.1292 - accuracy: 0.9685\n",
            "862/862 [==============================] - 45s 52ms/step - loss: 0.1338 - accuracy: 0.9671\n",
            "Train Loss: 0.12920048832893372\n",
            "Train Accuracy: 0.9685085415840149\n",
            "Test Loss: 0.13383717834949493\n",
            "Test Accuracy: 0.9671372771263123\n"
          ]
        }
      ]
    },
    {
      "cell_type": "code",
      "source": [
        "def translate_sentence(input_sentence):\n",
        "    # Tokenize the input sentence\n",
        "    input_sequence = tokenizer_eng.texts_to_sequences([input_sentence])\n",
        "    # Pad the input sequence\n",
        "    input_sequence = pad_sequences(input_sequence, maxlen=max_len_eng, padding='post')\n",
        "    # Encode the input sequence\n",
        "    states_value = encoder_model.predict(input_sequence)\n",
        "\n",
        "    # Initialize the target sequence with start token\n",
        "    target_sequence = np.zeros((1, 1))\n",
        "    target_sequence[0, 0] = tokenizer_fr.word_index['<start>']\n",
        "\n",
        "    stop_condition = False\n",
        "    translated_sentence = ''\n",
        "\n",
        "    while not stop_condition:\n",
        "        output_tokens, h, c = decoder_model.predict([target_sequence] + states_value)\n",
        "\n",
        "        # Sample a token\n",
        "        sampled_token_index = np.argmax(output_tokens[0, -1, :])\n",
        "        sampled_word = tokenizer_fr.index_word[sampled_token_index]\n",
        "\n",
        "        if sampled_word != '<end>':\n",
        "            translated_sentence += sampled_word + ' '\n",
        "\n",
        "        # Exit condition: either hit max length or find stop token\n",
        "        if sampled_word == '<end>' or len(translated_sentence.split()) > max_len_fr:\n",
        "            stop_condition = True\n",
        "\n",
        "        # Update the target sequence\n",
        "        target_sequence = np.zeros((1, 1))\n",
        "        target_sequence[0, 0] = sampled_token_index\n",
        "\n",
        "        # Update states\n",
        "        states_value = [h, c]\n",
        "\n",
        "    return translated_sentence.strip()\n",
        "\n",
        "# Load the trained encoder and decoder models\n",
        "encoder_model = Model(encoder_inputs, encoder_states)\n",
        "\n",
        "decoder_state_input_h = Input(shape=(latent_dim,))\n",
        "decoder_state_input_c = Input(shape=(latent_dim,))\n",
        "decoder_states_inputs = [decoder_state_input_h, decoder_state_input_c]\n",
        "\n",
        "decoder_outputs, state_h, state_c = decoder_lstm(\n",
        "    decoder_emb, initial_state=decoder_states_inputs)\n",
        "decoder_states = [state_h, state_c]\n",
        "decoder_outputs = decoder_dense(decoder_outputs)\n",
        "decoder_model = Model(\n",
        "    [decoder_inputs] + decoder_states_inputs,\n",
        "    [decoder_outputs] + decoder_states)\n",
        "\n",
        "# Prompt for user input\n",
        "input_sentence = input(\"Enter an English sentence: \")\n",
        "\n",
        "# Translate the input sentence\n",
        "translated_sentence = translate_sentence(input_sentence)\n",
        "print(\"Translated sentence:\", translated_sentence)\n"
      ],
      "metadata": {
        "id": "5aw-0KNH6kkz",
        "colab": {
          "base_uri": "https://localhost:8080/",
          "height": 349
        },
        "outputId": "8a0b1d72-8f68-4036-d5ff-683fd4a20b6d"
      },
      "execution_count": 8,
      "outputs": [
        {
          "output_type": "stream",
          "name": "stdout",
          "text": [
            "Enter an English sentence: the\n",
            "1/1 [==============================] - 2s 2s/step\n"
          ]
        },
        {
          "output_type": "error",
          "ename": "KeyError",
          "evalue": "'<start>'",
          "traceback": [
            "\u001b[0;31m---------------------------------------------------------------------------\u001b[0m",
            "\u001b[0;31mKeyError\u001b[0m                                  Traceback (most recent call last)",
            "\u001b[0;32m<ipython-input-8-9c8c1ce6091c>\u001b[0m in \u001b[0;36m<cell line: 58>\u001b[0;34m()\u001b[0m\n\u001b[1;32m     56\u001b[0m \u001b[0;34m\u001b[0m\u001b[0m\n\u001b[1;32m     57\u001b[0m \u001b[0;31m# Translate the input sentence\u001b[0m\u001b[0;34m\u001b[0m\u001b[0;34m\u001b[0m\u001b[0m\n\u001b[0;32m---> 58\u001b[0;31m \u001b[0mtranslated_sentence\u001b[0m \u001b[0;34m=\u001b[0m \u001b[0mtranslate_sentence\u001b[0m\u001b[0;34m(\u001b[0m\u001b[0minput_sentence\u001b[0m\u001b[0;34m)\u001b[0m\u001b[0;34m\u001b[0m\u001b[0;34m\u001b[0m\u001b[0m\n\u001b[0m\u001b[1;32m     59\u001b[0m \u001b[0mprint\u001b[0m\u001b[0;34m(\u001b[0m\u001b[0;34m\"Translated sentence:\"\u001b[0m\u001b[0;34m,\u001b[0m \u001b[0mtranslated_sentence\u001b[0m\u001b[0;34m)\u001b[0m\u001b[0;34m\u001b[0m\u001b[0;34m\u001b[0m\u001b[0m\n",
            "\u001b[0;32m<ipython-input-8-9c8c1ce6091c>\u001b[0m in \u001b[0;36mtranslate_sentence\u001b[0;34m(input_sentence)\u001b[0m\n\u001b[1;32m      9\u001b[0m     \u001b[0;31m# Initialize the target sequence with start token\u001b[0m\u001b[0;34m\u001b[0m\u001b[0;34m\u001b[0m\u001b[0m\n\u001b[1;32m     10\u001b[0m     \u001b[0mtarget_sequence\u001b[0m \u001b[0;34m=\u001b[0m \u001b[0mnp\u001b[0m\u001b[0;34m.\u001b[0m\u001b[0mzeros\u001b[0m\u001b[0;34m(\u001b[0m\u001b[0;34m(\u001b[0m\u001b[0;36m1\u001b[0m\u001b[0;34m,\u001b[0m \u001b[0;36m1\u001b[0m\u001b[0;34m)\u001b[0m\u001b[0;34m)\u001b[0m\u001b[0;34m\u001b[0m\u001b[0;34m\u001b[0m\u001b[0m\n\u001b[0;32m---> 11\u001b[0;31m     \u001b[0mtarget_sequence\u001b[0m\u001b[0;34m[\u001b[0m\u001b[0;36m0\u001b[0m\u001b[0;34m,\u001b[0m \u001b[0;36m0\u001b[0m\u001b[0;34m]\u001b[0m \u001b[0;34m=\u001b[0m \u001b[0mtokenizer_fr\u001b[0m\u001b[0;34m.\u001b[0m\u001b[0mword_index\u001b[0m\u001b[0;34m[\u001b[0m\u001b[0;34m'<start>'\u001b[0m\u001b[0;34m]\u001b[0m\u001b[0;34m\u001b[0m\u001b[0;34m\u001b[0m\u001b[0m\n\u001b[0m\u001b[1;32m     12\u001b[0m \u001b[0;34m\u001b[0m\u001b[0m\n\u001b[1;32m     13\u001b[0m     \u001b[0mstop_condition\u001b[0m \u001b[0;34m=\u001b[0m \u001b[0;32mFalse\u001b[0m\u001b[0;34m\u001b[0m\u001b[0;34m\u001b[0m\u001b[0m\n",
            "\u001b[0;31mKeyError\u001b[0m: '<start>'"
          ]
        }
      ]
    }
  ],
  "metadata": {
    "accelerator": "GPU",
    "colab": {
      "gpuType": "T4",
      "provenance": [],
      "mount_file_id": "1Ckrf9igMsIjVPjsqn2451xxyouwCWMHL",
      "authorship_tag": "ABX9TyP2X9Z6UD+racG80wsXKRqw",
      "include_colab_link": true
    },
    "kernelspec": {
      "display_name": "Python 3",
      "name": "python3"
    },
    "language_info": {
      "name": "python"
    }
  },
  "nbformat": 4,
  "nbformat_minor": 0
}