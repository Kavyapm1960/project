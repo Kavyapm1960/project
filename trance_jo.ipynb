{
  "nbformat": 4,
  "nbformat_minor": 0,
  "metadata": {
    "colab": {
      "provenance": [],
      "gpuType": "T4",
      "mount_file_id": "1m0K5AQ6WXWAtSFvFLiG_pih8ES3vBqdf",
      "authorship_tag": "ABX9TyOx5mTqEcwWZXfnRTPZXrI+",
      "include_colab_link": true
    },
    "kernelspec": {
      "name": "python3",
      "display_name": "Python 3"
    },
    "language_info": {
      "name": "python"
    },
    "accelerator": "GPU"
  },
  "cells": [
    {
      "cell_type": "markdown",
      "metadata": {
        "id": "view-in-github",
        "colab_type": "text"
      },
      "source": [
        "<a href=\"https://colab.research.google.com/github/Kavyapm1960/project/blob/main/trance_jo.ipynb\" target=\"_parent\"><img src=\"https://colab.research.google.com/assets/colab-badge.svg\" alt=\"Open In Colab\"/></a>"
      ]
    },
    {
      "cell_type": "code",
      "execution_count": null,
      "metadata": {
        "id": "8MzTjOZzxznl"
      },
      "outputs": [],
      "source": []
    },
    {
      "cell_type": "code",
      "source": [
        "from google.colab import drive\n",
        "drive.mount('/content/drive')"
      ],
      "metadata": {
        "colab": {
          "base_uri": "https://localhost:8080/"
        },
        "id": "yK7yq2Y2x6o_",
        "outputId": "d4dbbb7b-e7b7-41b8-f142-600850f56959"
      },
      "execution_count": 2,
      "outputs": [
        {
          "output_type": "stream",
          "name": "stdout",
          "text": [
            "Mounted at /content/drive\n"
          ]
        }
      ]
    },
    {
      "cell_type": "code",
      "source": [
        "pip install --upgrade tensorflow"
      ],
      "metadata": {
        "colab": {
          "base_uri": "https://localhost:8080/"
        },
        "id": "un7DKFjhz5qB",
        "outputId": "e8852b85-591d-4e34-c62b-d8c44648c87a"
      },
      "execution_count": 1,
      "outputs": [
        {
          "output_type": "stream",
          "name": "stdout",
          "text": [
            "Requirement already satisfied: tensorflow in /usr/local/lib/python3.10/dist-packages (2.16.1)\n",
            "Requirement already satisfied: absl-py>=1.0.0 in /usr/local/lib/python3.10/dist-packages (from tensorflow) (1.4.0)\n",
            "Requirement already satisfied: astunparse>=1.6.0 in /usr/local/lib/python3.10/dist-packages (from tensorflow) (1.6.3)\n",
            "Requirement already satisfied: flatbuffers>=23.5.26 in /usr/local/lib/python3.10/dist-packages (from tensorflow) (24.3.6)\n",
            "Requirement already satisfied: gast!=0.5.0,!=0.5.1,!=0.5.2,>=0.2.1 in /usr/local/lib/python3.10/dist-packages (from tensorflow) (0.5.4)\n",
            "Requirement already satisfied: google-pasta>=0.1.1 in /usr/local/lib/python3.10/dist-packages (from tensorflow) (0.2.0)\n",
            "Requirement already satisfied: h5py>=3.10.0 in /usr/local/lib/python3.10/dist-packages (from tensorflow) (3.10.0)\n",
            "Requirement already satisfied: libclang>=13.0.0 in /usr/local/lib/python3.10/dist-packages (from tensorflow) (16.0.6)\n",
            "Requirement already satisfied: ml-dtypes~=0.3.1 in /usr/local/lib/python3.10/dist-packages (from tensorflow) (0.3.2)\n",
            "Requirement already satisfied: opt-einsum>=2.3.2 in /usr/local/lib/python3.10/dist-packages (from tensorflow) (3.3.0)\n",
            "Requirement already satisfied: packaging in /usr/local/lib/python3.10/dist-packages (from tensorflow) (23.2)\n",
            "Requirement already satisfied: protobuf!=4.21.0,!=4.21.1,!=4.21.2,!=4.21.3,!=4.21.4,!=4.21.5,<5.0.0dev,>=3.20.3 in /usr/local/lib/python3.10/dist-packages (from tensorflow) (3.20.3)\n",
            "Requirement already satisfied: requests<3,>=2.21.0 in /usr/local/lib/python3.10/dist-packages (from tensorflow) (2.31.0)\n",
            "Requirement already satisfied: setuptools in /usr/local/lib/python3.10/dist-packages (from tensorflow) (67.7.2)\n",
            "Requirement already satisfied: six>=1.12.0 in /usr/local/lib/python3.10/dist-packages (from tensorflow) (1.16.0)\n",
            "Requirement already satisfied: termcolor>=1.1.0 in /usr/local/lib/python3.10/dist-packages (from tensorflow) (2.4.0)\n",
            "Requirement already satisfied: typing-extensions>=3.6.6 in /usr/local/lib/python3.10/dist-packages (from tensorflow) (4.10.0)\n",
            "Requirement already satisfied: wrapt>=1.11.0 in /usr/local/lib/python3.10/dist-packages (from tensorflow) (1.14.1)\n",
            "Requirement already satisfied: grpcio<2.0,>=1.24.3 in /usr/local/lib/python3.10/dist-packages (from tensorflow) (1.62.0)\n",
            "Requirement already satisfied: tensorboard<2.17,>=2.16 in /usr/local/lib/python3.10/dist-packages (from tensorflow) (2.16.2)\n",
            "Requirement already satisfied: keras>=3.0.0 in /usr/local/lib/python3.10/dist-packages (from tensorflow) (3.0.5)\n",
            "Requirement already satisfied: tensorflow-io-gcs-filesystem>=0.23.1 in /usr/local/lib/python3.10/dist-packages (from tensorflow) (0.36.0)\n",
            "Requirement already satisfied: numpy<2.0.0,>=1.23.5 in /usr/local/lib/python3.10/dist-packages (from tensorflow) (1.25.2)\n",
            "Requirement already satisfied: wheel<1.0,>=0.23.0 in /usr/local/lib/python3.10/dist-packages (from astunparse>=1.6.0->tensorflow) (0.42.0)\n",
            "Requirement already satisfied: rich in /usr/local/lib/python3.10/dist-packages (from keras>=3.0.0->tensorflow) (13.7.1)\n",
            "Requirement already satisfied: namex in /usr/local/lib/python3.10/dist-packages (from keras>=3.0.0->tensorflow) (0.0.7)\n",
            "Requirement already satisfied: dm-tree in /usr/local/lib/python3.10/dist-packages (from keras>=3.0.0->tensorflow) (0.1.8)\n",
            "Requirement already satisfied: charset-normalizer<4,>=2 in /usr/local/lib/python3.10/dist-packages (from requests<3,>=2.21.0->tensorflow) (3.3.2)\n",
            "Requirement already satisfied: idna<4,>=2.5 in /usr/local/lib/python3.10/dist-packages (from requests<3,>=2.21.0->tensorflow) (3.6)\n",
            "Requirement already satisfied: urllib3<3,>=1.21.1 in /usr/local/lib/python3.10/dist-packages (from requests<3,>=2.21.0->tensorflow) (2.0.7)\n",
            "Requirement already satisfied: certifi>=2017.4.17 in /usr/local/lib/python3.10/dist-packages (from requests<3,>=2.21.0->tensorflow) (2024.2.2)\n",
            "Requirement already satisfied: markdown>=2.6.8 in /usr/local/lib/python3.10/dist-packages (from tensorboard<2.17,>=2.16->tensorflow) (3.5.2)\n",
            "Requirement already satisfied: tensorboard-data-server<0.8.0,>=0.7.0 in /usr/local/lib/python3.10/dist-packages (from tensorboard<2.17,>=2.16->tensorflow) (0.7.2)\n",
            "Requirement already satisfied: werkzeug>=1.0.1 in /usr/local/lib/python3.10/dist-packages (from tensorboard<2.17,>=2.16->tensorflow) (3.0.1)\n",
            "Requirement already satisfied: MarkupSafe>=2.1.1 in /usr/local/lib/python3.10/dist-packages (from werkzeug>=1.0.1->tensorboard<2.17,>=2.16->tensorflow) (2.1.5)\n",
            "Requirement already satisfied: markdown-it-py>=2.2.0 in /usr/local/lib/python3.10/dist-packages (from rich->keras>=3.0.0->tensorflow) (3.0.0)\n",
            "Requirement already satisfied: pygments<3.0.0,>=2.13.0 in /usr/local/lib/python3.10/dist-packages (from rich->keras>=3.0.0->tensorflow) (2.16.1)\n",
            "Requirement already satisfied: mdurl~=0.1 in /usr/local/lib/python3.10/dist-packages (from markdown-it-py>=2.2.0->rich->keras>=3.0.0->tensorflow) (0.1.2)\n"
          ]
        }
      ]
    },
    {
      "cell_type": "code",
      "source": [
        "import numpy as np\n",
        "import tensorflow as tf\n",
        "from tensorflow.keras.models import Model\n",
        "from tensorflow.keras.layers import Input, LSTM, Dense\n",
        "from tensorflow.keras.callbacks import ModelCheckpoint\n",
        "from nltk.translate.bleu_score import corpus_bleu\n",
        "from nltk.translate.meteor_score import meteor_score\n",
        "from sklearn.model_selection import train_test_split\n",
        "\n",
        "# Load English dataset\n",
        "with open('/content/drive/MyDrive/project-trans/small_vocab_en.txt', 'r', encoding='utf-8') as f:\n",
        "    english_sentences = f.read().splitlines()\n",
        "\n",
        "# Load French dataset\n",
        "with open('/content/drive/MyDrive/project-trans/small_vocab_fr.txt', 'r', encoding='utf-8') as f:\n",
        "    french_sentences = f.read().splitlines()\n",
        "\n",
        "# Tokenize sentences\n",
        "english_tokenized = [sentence.split() for sentence in english_sentences]\n",
        "french_tokenized = [sentence.split() for sentence in french_sentences]\n",
        "\n",
        "# Build vocabulary\n",
        "english_vocab = set(word for sentence in english_tokenized for word in sentence)\n",
        "french_vocab = set(word for sentence in french_tokenized for word in sentence)\n",
        "\n",
        "# Create mappings from words to indices\n",
        "english_word_to_idx = {word: idx for idx, word in enumerate(english_vocab)}\n",
        "french_word_to_idx = {word: idx for idx, word in enumerate(french_vocab)}\n",
        "\n",
        "# Convert sentences to numerical representations\n",
        "english_numerical = [[english_word_to_idx[word] for word in sentence] for sentence in english_tokenized]\n",
        "french_numerical = [[french_word_to_idx[word] for word in sentence] for sentence in french_tokenized]\n",
        "\n",
        "# Pad sequences to ensure uniform length\n",
        "max_seq_length = max(max(len(seq) for seq in english_numerical), max(len(seq) for seq in french_numerical))\n",
        "english_padded = tf.keras.preprocessing.sequence.pad_sequences(english_numerical, maxlen=max_seq_length, padding='post')\n",
        "french_padded = tf.keras.preprocessing.sequence.pad_sequences(french_numerical, maxlen=max_seq_length, padding='post')\n",
        "\n",
        "# Split the data into training and validation sets\n",
        "english_train, english_validation, french_train, french_validation = train_test_split(english_padded, french_padded, test_size=0.2)\n",
        "\n",
        "# Define your model architecture\n",
        "latent_dim = 256  # Dimensionality of the latent space\n",
        "\n",
        "# Encoder\n",
        "encoder_inputs = Input(shape=(None,))\n",
        "encoder_embedding = tf.keras.layers.Embedding(len(english_vocab), latent_dim, mask_zero=True)(encoder_inputs)\n",
        "encoder_lstm = LSTM(latent_dim, return_state=True)\n",
        "encoder_outputs, state_h, state_c = encoder_lstm(encoder_embedding)\n",
        "encoder_states = [state_h, state_c]\n",
        "\n",
        "# Decoder\n",
        "decoder_inputs = Input(shape=(None,))\n",
        "decoder_embedding = tf.keras.layers.Embedding(len(french_vocab), latent_dim, mask_zero=True)(decoder_inputs)\n",
        "decoder_lstm = LSTM(latent_dim, return_sequences=True, return_state=True)\n",
        "decoder_outputs, _, _ = decoder_lstm(decoder_embedding, initial_state=encoder_states)\n",
        "decoder_dense = Dense(len(french_vocab), activation='softmax')\n",
        "decoder_outputs = decoder_dense(decoder_outputs)\n",
        "\n",
        "# Define the model\n",
        "model = Model([encoder_inputs, decoder_inputs], decoder_outputs)\n",
        "\n",
        "# Compile the model\n",
        "model.compile(optimizer='adam', loss='sparse_categorical_crossentropy', metrics=['accuracy'])\n",
        "\n",
        "# Define callbacks\n",
        "checkpoint_filepath = 'translation_model.weights.h5'  # Adjusted filepath\n",
        "model_checkpoint_callback = ModelCheckpoint(filepath=checkpoint_filepath, save_weights_only=True, monitor='val_accuracy', mode='max', save_best_only=True)\n",
        "\n",
        "# Train the model\n",
        "history = model.fit(x=[english_train, french_train],\n",
        "                    y=french_train,\n",
        "                    batch_size=64,\n",
        "                    epochs=50,\n",
        "                    validation_data=([english_validation, french_validation], french_validation),\n",
        "                    callbacks=[model_checkpoint_callback])\n",
        "\n",
        "# Evaluate the model\n",
        "evaluation_loss, evaluation_accuracy = model.evaluate(x=[english_validation, french_validation],\n",
        "                                                      y=french_validation)\n",
        "print(\"Evaluation Loss:\", evaluation_loss)\n",
        "print(\"Evaluation Accuracy:\", evaluation_accuracy)\n",
        "\n",
        "# Generate predictions\n",
        "predictions = model.predict([english_validation, french_validation])\n",
        "\n",
        "# Convert numerical predictions back to text\n",
        "def numerical_to_text(predictions, idx_to_word):\n",
        "    text_predictions = []\n",
        "    for seq in predictions:\n",
        "        text_seq = [idx_to_word[np.argmax(word)] for word in seq]\n",
        "        text_predictions.append(' '.join(text_seq))\n",
        "    return text_predictions\n",
        "\n",
        "# Convert numerical French predictions and validation data back to text\n",
        "french_idx_to_word = {idx: word for word, idx in french_word_to_idx.items()}\n",
        "text_predictions = numerical_to_text(predictions, french_idx_to_word)\n",
        "text_validation = numerical_to_text(french_validation, french_idx_to_word)\n",
        "\n",
        "# Calculate BLEU score\n",
        "bleu_score = corpus_bleu([[ref.split()] for ref in text_validation], text_predictions)\n",
        "print(\"BLEU Score:\", bleu_score)\n",
        "\n",
        "\n",
        "\n",
        "\n",
        "# Save the model\n",
        "model.save('final_translation_model.h5')\n"
      ],
      "metadata": {
        "colab": {
          "base_uri": "https://localhost:8080/"
        },
        "id": "gXfHqFPuyNDj",
        "outputId": "a94d8aec-05d8-41fc-fc0c-743ff62b887f"
      },
      "execution_count": 7,
      "outputs": [
        {
          "output_type": "stream",
          "name": "stdout",
          "text": [
            "Epoch 1/50\n",
            "\u001b[1m1724/1724\u001b[0m \u001b[32m━━━━━━━━━━━━━━━━━━━━\u001b[0m\u001b[37m\u001b[0m \u001b[1m120s\u001b[0m 68ms/step - accuracy: 0.5338 - loss: 0.7934 - val_accuracy: 0.6182 - val_loss: 0.0015\n",
            "Epoch 2/50\n",
            "\u001b[1m1724/1724\u001b[0m \u001b[32m━━━━━━━━━━━━━━━━━━━━\u001b[0m\u001b[37m\u001b[0m \u001b[1m145s\u001b[0m 69ms/step - accuracy: 0.6173 - loss: 9.5831e-04 - val_accuracy: 0.6182 - val_loss: 3.1113e-04\n",
            "Epoch 3/50\n",
            "\u001b[1m1724/1724\u001b[0m \u001b[32m━━━━━━━━━━━━━━━━━━━━\u001b[0m\u001b[37m\u001b[0m \u001b[1m120s\u001b[0m 69ms/step - accuracy: 0.6179 - loss: 2.3482e-04 - val_accuracy: 0.6182 - val_loss: 9.8014e-05\n",
            "Epoch 4/50\n",
            "\u001b[1m1724/1724\u001b[0m \u001b[32m━━━━━━━━━━━━━━━━━━━━\u001b[0m\u001b[37m\u001b[0m \u001b[1m143s\u001b[0m 70ms/step - accuracy: 0.6176 - loss: 6.5488e-05 - val_accuracy: 0.6182 - val_loss: 2.9030e-05\n",
            "Epoch 5/50\n",
            "\u001b[1m1724/1724\u001b[0m \u001b[32m━━━━━━━━━━━━━━━━━━━━\u001b[0m\u001b[37m\u001b[0m \u001b[1m138s\u001b[0m 68ms/step - accuracy: 0.6177 - loss: 2.3943e-05 - val_accuracy: 0.6182 - val_loss: 1.2772e-05\n",
            "Epoch 6/50\n",
            "\u001b[1m1724/1724\u001b[0m \u001b[32m━━━━━━━━━━━━━━━━━━━━\u001b[0m\u001b[37m\u001b[0m \u001b[1m117s\u001b[0m 68ms/step - accuracy: 0.6171 - loss: 9.3397e-06 - val_accuracy: 0.6182 - val_loss: 4.8164e-06\n",
            "Epoch 7/50\n",
            "\u001b[1m1724/1724\u001b[0m \u001b[32m━━━━━━━━━━━━━━━━━━━━\u001b[0m\u001b[37m\u001b[0m \u001b[1m142s\u001b[0m 68ms/step - accuracy: 0.6170 - loss: 4.6680e-06 - val_accuracy: 0.6182 - val_loss: 2.1743e-06\n",
            "Epoch 8/50\n",
            "\u001b[1m1724/1724\u001b[0m \u001b[32m━━━━━━━━━━━━━━━━━━━━\u001b[0m\u001b[37m\u001b[0m \u001b[1m142s\u001b[0m 68ms/step - accuracy: 0.6175 - loss: 1.6901e-06 - val_accuracy: 0.6182 - val_loss: 1.0486e-06\n",
            "Epoch 9/50\n",
            "\u001b[1m1724/1724\u001b[0m \u001b[32m━━━━━━━━━━━━━━━━━━━━\u001b[0m\u001b[37m\u001b[0m \u001b[1m119s\u001b[0m 69ms/step - accuracy: 0.6174 - loss: 8.1349e-07 - val_accuracy: 0.6182 - val_loss: 5.1578e-07\n",
            "Epoch 10/50\n",
            "\u001b[1m1724/1724\u001b[0m \u001b[32m━━━━━━━━━━━━━━━━━━━━\u001b[0m\u001b[37m\u001b[0m \u001b[1m140s\u001b[0m 68ms/step - accuracy: 0.6173 - loss: 4.0575e-07 - val_accuracy: 0.6182 - val_loss: 2.8355e-07\n",
            "Epoch 11/50\n",
            "\u001b[1m1724/1724\u001b[0m \u001b[32m━━━━━━━━━━━━━━━━━━━━\u001b[0m\u001b[37m\u001b[0m \u001b[1m146s\u001b[0m 70ms/step - accuracy: 0.6168 - loss: 2.3221e-07 - val_accuracy: 0.6182 - val_loss: 1.8132e-07\n",
            "Epoch 12/50\n",
            "\u001b[1m1724/1724\u001b[0m \u001b[32m━━━━━━━━━━━━━━━━━━━━\u001b[0m\u001b[37m\u001b[0m \u001b[1m142s\u001b[0m 70ms/step - accuracy: 0.6180 - loss: 1.4516e-07 - val_accuracy: 0.6182 - val_loss: 1.2874e-07\n",
            "Epoch 13/50\n",
            "\u001b[1m1724/1724\u001b[0m \u001b[32m━━━━━━━━━━━━━━━━━━━━\u001b[0m\u001b[37m\u001b[0m \u001b[1m143s\u001b[0m 71ms/step - accuracy: 0.6181 - loss: 1.0875e-07 - val_accuracy: 0.6182 - val_loss: 1.0142e-07\n",
            "Epoch 14/50\n",
            "\u001b[1m1724/1724\u001b[0m \u001b[32m━━━━━━━━━━━━━━━━━━━━\u001b[0m\u001b[37m\u001b[0m \u001b[1m140s\u001b[0m 70ms/step - accuracy: 0.6178 - loss: 8.2192e-08 - val_accuracy: 0.6182 - val_loss: 8.3213e-08\n",
            "Epoch 15/50\n",
            "\u001b[1m1724/1724\u001b[0m \u001b[32m━━━━━━━━━━━━━━━━━━━━\u001b[0m\u001b[37m\u001b[0m \u001b[1m118s\u001b[0m 68ms/step - accuracy: 0.6183 - loss: 6.8095e-08 - val_accuracy: 0.6182 - val_loss: 7.2539e-08\n",
            "Epoch 16/50\n",
            "\u001b[1m1724/1724\u001b[0m \u001b[32m━━━━━━━━━━━━━━━━━━━━\u001b[0m\u001b[37m\u001b[0m \u001b[1m144s\u001b[0m 70ms/step - accuracy: 0.6175 - loss: 5.9781e-08 - val_accuracy: 0.6182 - val_loss: 6.5435e-08\n",
            "Epoch 17/50\n",
            "\u001b[1m1724/1724\u001b[0m \u001b[32m━━━━━━━━━━━━━━━━━━━━\u001b[0m\u001b[37m\u001b[0m \u001b[1m118s\u001b[0m 69ms/step - accuracy: 0.6176 - loss: 5.4456e-08 - val_accuracy: 0.6182 - val_loss: 6.0135e-08\n",
            "Epoch 18/50\n",
            "\u001b[1m1724/1724\u001b[0m \u001b[32m━━━━━━━━━━━━━━━━━━━━\u001b[0m\u001b[37m\u001b[0m \u001b[1m143s\u001b[0m 69ms/step - accuracy: 0.6175 - loss: 5.0789e-08 - val_accuracy: 0.6182 - val_loss: 5.5751e-08\n",
            "Epoch 19/50\n",
            "\u001b[1m1724/1724\u001b[0m \u001b[32m━━━━━━━━━━━━━━━━━━━━\u001b[0m\u001b[37m\u001b[0m \u001b[1m144s\u001b[0m 71ms/step - accuracy: 0.6172 - loss: 4.7976e-08 - val_accuracy: 0.6182 - val_loss: 5.3657e-08\n",
            "Epoch 20/50\n",
            "\u001b[1m1724/1724\u001b[0m \u001b[32m━━━━━━━━━━━━━━━━━━━━\u001b[0m\u001b[37m\u001b[0m \u001b[1m119s\u001b[0m 69ms/step - accuracy: 0.6175 - loss: 4.5921e-08 - val_accuracy: 0.6182 - val_loss: 5.2147e-08\n",
            "Epoch 21/50\n",
            "\u001b[1m1724/1724\u001b[0m \u001b[32m━━━━━━━━━━━━━━━━━━━━\u001b[0m\u001b[37m\u001b[0m \u001b[1m144s\u001b[0m 70ms/step - accuracy: 0.6173 - loss: 4.4534e-08 - val_accuracy: 0.6182 - val_loss: 5.2074e-08\n",
            "Epoch 22/50\n",
            "\u001b[1m1724/1724\u001b[0m \u001b[32m━━━━━━━━━━━━━━━━━━━━\u001b[0m\u001b[37m\u001b[0m \u001b[1m139s\u001b[0m 69ms/step - accuracy: 0.6183 - loss: 4.4409e-08 - val_accuracy: 0.6182 - val_loss: 5.2227e-08\n",
            "Epoch 23/50\n",
            "\u001b[1m1724/1724\u001b[0m \u001b[32m━━━━━━━━━━━━━━━━━━━━\u001b[0m\u001b[37m\u001b[0m \u001b[1m121s\u001b[0m 70ms/step - accuracy: 0.6174 - loss: 4.4502e-08 - val_accuracy: 0.6182 - val_loss: 5.1702e-08\n",
            "Epoch 24/50\n",
            "\u001b[1m1724/1724\u001b[0m \u001b[32m━━━━━━━━━━━━━━━━━━━━\u001b[0m\u001b[37m\u001b[0m \u001b[1m140s\u001b[0m 69ms/step - accuracy: 0.6175 - loss: 4.5113e-08 - val_accuracy: 0.6182 - val_loss: 5.2571e-08\n",
            "Epoch 25/50\n",
            "\u001b[1m1724/1724\u001b[0m \u001b[32m━━━━━━━━━━━━━━━━━━━━\u001b[0m\u001b[37m\u001b[0m \u001b[1m142s\u001b[0m 70ms/step - accuracy: 0.6178 - loss: 4.5974e-08 - val_accuracy: 0.6182 - val_loss: 5.1584e-08\n",
            "Epoch 26/50\n",
            "\u001b[1m1724/1724\u001b[0m \u001b[32m━━━━━━━━━━━━━━━━━━━━\u001b[0m\u001b[37m\u001b[0m \u001b[1m143s\u001b[0m 70ms/step - accuracy: 0.6168 - loss: 4.7013e-08 - val_accuracy: 0.6182 - val_loss: 5.3982e-08\n",
            "Epoch 27/50\n",
            "\u001b[1m1724/1724\u001b[0m \u001b[32m━━━━━━━━━━━━━━━━━━━━\u001b[0m\u001b[37m\u001b[0m \u001b[1m141s\u001b[0m 70ms/step - accuracy: 0.6177 - loss: 4.7858e-08 - val_accuracy: 0.6182 - val_loss: 5.3343e-08\n",
            "Epoch 28/50\n",
            "\u001b[1m1724/1724\u001b[0m \u001b[32m━━━━━━━━━━━━━━━━━━━━\u001b[0m\u001b[37m\u001b[0m \u001b[1m142s\u001b[0m 70ms/step - accuracy: 0.6181 - loss: 4.7939e-08 - val_accuracy: 0.6182 - val_loss: 5.5173e-08\n",
            "Epoch 29/50\n",
            "\u001b[1m1724/1724\u001b[0m \u001b[32m━━━━━━━━━━━━━━━━━━━━\u001b[0m\u001b[37m\u001b[0m \u001b[1m140s\u001b[0m 69ms/step - accuracy: 0.6181 - loss: 4.9590e-08 - val_accuracy: 0.6182 - val_loss: 5.6243e-08\n",
            "Epoch 30/50\n",
            "\u001b[1m1724/1724\u001b[0m \u001b[32m━━━━━━━━━━━━━━━━━━━━\u001b[0m\u001b[37m\u001b[0m \u001b[1m144s\u001b[0m 70ms/step - accuracy: 0.6175 - loss: 5.1275e-08 - val_accuracy: 0.6182 - val_loss: 5.5936e-08\n",
            "Epoch 31/50\n",
            "\u001b[1m1724/1724\u001b[0m \u001b[32m━━━━━━━━━━━━━━━━━━━━\u001b[0m\u001b[37m\u001b[0m \u001b[1m145s\u001b[0m 71ms/step - accuracy: 0.6175 - loss: 5.2308e-08 - val_accuracy: 0.6182 - val_loss: 5.7906e-08\n",
            "Epoch 32/50\n",
            "\u001b[1m1724/1724\u001b[0m \u001b[32m━━━━━━━━━━━━━━━━━━━━\u001b[0m\u001b[37m\u001b[0m \u001b[1m121s\u001b[0m 70ms/step - accuracy: 0.6174 - loss: 5.2755e-08 - val_accuracy: 0.6182 - val_loss: 5.8509e-08\n",
            "Epoch 33/50\n",
            "\u001b[1m1724/1724\u001b[0m \u001b[32m━━━━━━━━━━━━━━━━━━━━\u001b[0m\u001b[37m\u001b[0m \u001b[1m141s\u001b[0m 70ms/step - accuracy: 0.6177 - loss: 5.3882e-08 - val_accuracy: 0.6182 - val_loss: 5.9754e-08\n",
            "Epoch 34/50\n",
            "\u001b[1m1724/1724\u001b[0m \u001b[32m━━━━━━━━━━━━━━━━━━━━\u001b[0m\u001b[37m\u001b[0m \u001b[1m136s\u001b[0m 66ms/step - accuracy: 0.6180 - loss: 5.5507e-08 - val_accuracy: 0.6182 - val_loss: 6.1152e-08\n",
            "Epoch 35/50\n",
            "\u001b[1m1724/1724\u001b[0m \u001b[32m━━━━━━━━━━━━━━━━━━━━\u001b[0m\u001b[37m\u001b[0m \u001b[1m142s\u001b[0m 67ms/step - accuracy: 0.6178 - loss: 5.5282e-08 - val_accuracy: 0.6182 - val_loss: 6.1945e-08\n",
            "Epoch 36/50\n",
            "\u001b[1m1724/1724\u001b[0m \u001b[32m━━━━━━━━━━━━━━━━━━━━\u001b[0m\u001b[37m\u001b[0m \u001b[1m112s\u001b[0m 65ms/step - accuracy: 0.6178 - loss: 5.5332e-08 - val_accuracy: 0.6182 - val_loss: 6.0918e-08\n",
            "Epoch 37/50\n",
            "\u001b[1m1724/1724\u001b[0m \u001b[32m━━━━━━━━━━━━━━━━━━━━\u001b[0m\u001b[37m\u001b[0m \u001b[1m113s\u001b[0m 65ms/step - accuracy: 0.6177 - loss: 5.5959e-08 - val_accuracy: 0.6182 - val_loss: 6.1759e-08\n",
            "Epoch 38/50\n",
            "\u001b[1m1724/1724\u001b[0m \u001b[32m━━━━━━━━━━━━━━━━━━━━\u001b[0m\u001b[37m\u001b[0m \u001b[1m141s\u001b[0m 65ms/step - accuracy: 0.6172 - loss: 5.7586e-08 - val_accuracy: 0.6182 - val_loss: 6.1767e-08\n",
            "Epoch 39/50\n",
            "\u001b[1m1724/1724\u001b[0m \u001b[32m━━━━━━━━━━━━━━━━━━━━\u001b[0m\u001b[37m\u001b[0m \u001b[1m143s\u001b[0m 65ms/step - accuracy: 0.6179 - loss: 5.6869e-08 - val_accuracy: 0.6182 - val_loss: 6.3217e-08\n",
            "Epoch 40/50\n",
            "\u001b[1m1724/1724\u001b[0m \u001b[32m━━━━━━━━━━━━━━━━━━━━\u001b[0m\u001b[37m\u001b[0m \u001b[1m114s\u001b[0m 66ms/step - accuracy: 0.6178 - loss: 5.7774e-08 - val_accuracy: 0.6182 - val_loss: 6.1701e-08\n",
            "Epoch 41/50\n",
            "\u001b[1m1724/1724\u001b[0m \u001b[32m━━━━━━━━━━━━━━━━━━━━\u001b[0m\u001b[37m\u001b[0m \u001b[1m140s\u001b[0m 65ms/step - accuracy: 0.6177 - loss: 5.6338e-08 - val_accuracy: 0.6182 - val_loss: 6.2174e-08\n",
            "Epoch 42/50\n",
            "\u001b[1m1724/1724\u001b[0m \u001b[32m━━━━━━━━━━━━━━━━━━━━\u001b[0m\u001b[37m\u001b[0m \u001b[1m142s\u001b[0m 65ms/step - accuracy: 0.6175 - loss: 5.8229e-08 - val_accuracy: 0.6182 - val_loss: 5.8362e-08\n",
            "Epoch 43/50\n",
            "\u001b[1m1724/1724\u001b[0m \u001b[32m━━━━━━━━━━━━━━━━━━━━\u001b[0m\u001b[37m\u001b[0m \u001b[1m142s\u001b[0m 65ms/step - accuracy: 0.6173 - loss: 5.8358e-08 - val_accuracy: 0.6182 - val_loss: 6.2304e-08\n",
            "Epoch 44/50\n",
            "\u001b[1m1724/1724\u001b[0m \u001b[32m━━━━━━━━━━━━━━━━━━━━\u001b[0m\u001b[37m\u001b[0m \u001b[1m111s\u001b[0m 65ms/step - accuracy: 0.6170 - loss: 5.8531e-08 - val_accuracy: 0.6182 - val_loss: 6.3059e-08\n",
            "Epoch 45/50\n",
            "\u001b[1m1724/1724\u001b[0m \u001b[32m━━━━━━━━━━━━━━━━━━━━\u001b[0m\u001b[37m\u001b[0m \u001b[1m146s\u001b[0m 67ms/step - accuracy: 0.6187 - loss: 5.6975e-08 - val_accuracy: 0.6182 - val_loss: 6.1770e-08\n",
            "Epoch 46/50\n",
            "\u001b[1m1724/1724\u001b[0m \u001b[32m━━━━━━━━━━━━━━━━━━━━\u001b[0m\u001b[37m\u001b[0m \u001b[1m138s\u001b[0m 65ms/step - accuracy: 0.6176 - loss: 5.7949e-08 - val_accuracy: 0.6182 - val_loss: 6.2501e-08\n",
            "Epoch 47/50\n",
            "\u001b[1m1724/1724\u001b[0m \u001b[32m━━━━━━━━━━━━━━━━━━━━\u001b[0m\u001b[37m\u001b[0m \u001b[1m141s\u001b[0m 65ms/step - accuracy: 0.6176 - loss: 5.7865e-08 - val_accuracy: 0.6182 - val_loss: 6.3712e-08\n",
            "Epoch 48/50\n",
            "\u001b[1m1724/1724\u001b[0m \u001b[32m━━━━━━━━━━━━━━━━━━━━\u001b[0m\u001b[37m\u001b[0m \u001b[1m110s\u001b[0m 64ms/step - accuracy: 0.6178 - loss: 5.7777e-08 - val_accuracy: 0.6182 - val_loss: 6.3544e-08\n",
            "Epoch 49/50\n",
            "\u001b[1m1724/1724\u001b[0m \u001b[32m━━━━━━━━━━━━━━━━━━━━\u001b[0m\u001b[37m\u001b[0m \u001b[1m113s\u001b[0m 65ms/step - accuracy: 0.6182 - loss: 5.7337e-08 - val_accuracy: 0.6182 - val_loss: 6.0859e-08\n",
            "Epoch 50/50\n",
            "\u001b[1m1724/1724\u001b[0m \u001b[32m━━━━━━━━━━━━━━━━━━━━\u001b[0m\u001b[37m\u001b[0m \u001b[1m112s\u001b[0m 65ms/step - accuracy: 0.6180 - loss: 5.7179e-08 - val_accuracy: 0.6182 - val_loss: 6.2041e-08\n",
            "\u001b[1m862/862\u001b[0m \u001b[32m━━━━━━━━━━━━━━━━━━━━\u001b[0m\u001b[37m\u001b[0m \u001b[1m14s\u001b[0m 16ms/step - accuracy: 0.6193 - loss: 6.1675e-08\n",
            "Evaluation Loss: 6.154903786637078e-08\n",
            "Evaluation Accuracy: 0.6182118058204651\n",
            "\u001b[1m862/862\u001b[0m \u001b[32m━━━━━━━━━━━━━━━━━━━━\u001b[0m\u001b[37m\u001b[0m \u001b[1m13s\u001b[0m 15ms/step\n"
          ]
        },
        {
          "output_type": "stream",
          "name": "stderr",
          "text": [
            "WARNING:absl:You are saving your model as an HDF5 file via `model.save()` or `keras.saving.save_model(model)`. This file format is considered legacy. We recommend using instead the native Keras format, e.g. `model.save('my_model.keras')` or `keras.saving.save_model(model, 'my_model.keras')`. \n"
          ]
        },
        {
          "output_type": "stream",
          "name": "stdout",
          "text": [
            "BLEU Score: 0\n"
          ]
        }
      ]
    },
    {
      "cell_type": "code",
      "source": [
        "import numpy as np\n",
        "\n",
        "def translate_sentence(model, sentence, english_word_to_idx, french_idx_to_word, max_seq_length):\n",
        "    # Tokenize input sentence\n",
        "    sentence_tokens = sentence.split()\n",
        "    # Convert tokens to numerical representation\n",
        "    numerical_input = [english_word_to_idx.get(word, 0) for word in sentence_tokens]\n",
        "    # Pad numerical representation to match max sequence length\n",
        "    padded_input = tf.keras.preprocessing.sequence.pad_sequences([numerical_input], maxlen=max_seq_length, padding='post')\n",
        "    # Generate prediction\n",
        "    prediction = model.predict([padded_input, np.zeros((1, max_seq_length))])\n",
        "    # Convert numerical prediction to text\n",
        "    text_prediction = [french_idx_to_word[np.argmax(word)] for word in prediction[0]]\n",
        "    # Join words into a sentence\n",
        "    translated_sentence = ' '.join(text_prediction)\n",
        "    return translated_sentence\n",
        "\n",
        "# Prompt user to enter English sentence for translation\n",
        "user_input = input(\"Enter the English sentence to translate: \")\n",
        "\n",
        "# Translate user input from English to French\n",
        "translated_sentence = translate_sentence(model, user_input, english_word_to_idx, french_idx_to_word, max_seq_length)\n",
        "print(\"Translated Sentence:\", translated_sentence)\n"
      ],
      "metadata": {
        "colab": {
          "base_uri": "https://localhost:8080/"
        },
        "id": "cQ9J6rjZ6422",
        "outputId": "5880345c-ca71-476b-ccfa-b55ec0ed450e"
      },
      "execution_count": 8,
      "outputs": [
        {
          "output_type": "stream",
          "name": "stdout",
          "text": [
            "Enter the English sentence to translate: happy\n",
            "\u001b[1m1/1\u001b[0m \u001b[32m━━━━━━━━━━━━━━━━━━━━\u001b[0m\u001b[37m\u001b[0m \u001b[1m0s\u001b[0m 249ms/step\n",
            "Translated Sentence: la la son aimez aimez aimez aimez aimez aimez amusant amusant amusant amusant amusant amusant amusant amusant amusant amusant amusant amusant amusant amusant\n"
          ]
        }
      ]
    }
  ]
}