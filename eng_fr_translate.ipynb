{
  "nbformat": 4,
  "nbformat_minor": 0,
  "metadata": {
    "colab": {
      "provenance": [],
      "gpuType": "T4",
      "mount_file_id": "1rh7FtAJ2aZRiWroNwFrfknNtcM2h7Q8L",
      "authorship_tag": "ABX9TyPfTPNtPP6RgSaWg9f/4KaI",
      "include_colab_link": true
    },
    "kernelspec": {
      "name": "python3",
      "display_name": "Python 3"
    },
    "language_info": {
      "name": "python"
    },
    "accelerator": "GPU"
  },
  "cells": [
    {
      "cell_type": "markdown",
      "metadata": {
        "id": "view-in-github",
        "colab_type": "text"
      },
      "source": [
        "<a href=\"https://colab.research.google.com/github/Kavyapm1960/project/blob/main/eng_fr_translate.ipynb\" target=\"_parent\"><img src=\"https://colab.research.google.com/assets/colab-badge.svg\" alt=\"Open In Colab\"/></a>"
      ]
    },
    {
      "cell_type": "code",
      "source": [
        "from google.colab import drive\n",
        "drive.mount('/content/drive')"
      ],
      "metadata": {
        "colab": {
          "base_uri": "https://localhost:8080/"
        },
        "id": "5sA2pdhD8YLS",
        "outputId": "4f66122d-6e28-4815-821b-d6a40a358ceb"
      },
      "execution_count": 2,
      "outputs": [
        {
          "output_type": "stream",
          "name": "stdout",
          "text": [
            "Drive already mounted at /content/drive; to attempt to forcibly remount, call drive.mount(\"/content/drive\", force_remount=True).\n"
          ]
        }
      ]
    },
    {
      "cell_type": "code",
      "source": [
        "# basic libs\n",
        "import numpy as np\n",
        "import pandas as pd\n",
        "import matplotlib.pyplot as plt\n",
        "import seaborn as sns\n",
        "%matplotlib inline\n",
        "\n",
        "# cleaning data\n",
        "import re\n",
        "import os\n",
        "import nltk\n",
        "nltk.download(\"stopwords\")\n",
        "nltk.download('punkt')\n",
        "\n",
        "# save vocabulary in files\n",
        "import pickle\n",
        "\n",
        "# tokenization\n",
        "import tensorflow as tf\n",
        "from tensorflow import keras\n",
        "from tensorflow.keras.preprocessing.text import Tokenizer\n",
        "from tensorflow.keras.preprocessing.sequence import pad_sequences\n",
        "\n",
        "# Model\n",
        "from tensorflow.keras.layers import LSTM,Embedding,Input,Dense,SpatialDropout1D,Activation\n",
        "from tensorflow.keras.models import Model,Sequential\n",
        "\n",
        "# training model dependanices\n",
        "from tensorflow.keras.callbacks import EarlyStopping\n",
        "from tensorflow.keras.utils import to_categorical"
      ],
      "metadata": {
        "colab": {
          "base_uri": "https://localhost:8080/"
        },
        "id": "If_e3aS732c_",
        "outputId": "13e5cf3f-5427-4821-d41b-00c6b5e07a3e"
      },
      "execution_count": 3,
      "outputs": [
        {
          "output_type": "stream",
          "name": "stderr",
          "text": [
            "[nltk_data] Downloading package stopwords to /root/nltk_data...\n",
            "[nltk_data]   Unzipping corpora/stopwords.zip.\n",
            "[nltk_data] Downloading package punkt to /root/nltk_data...\n",
            "[nltk_data]   Unzipping tokenizers/punkt.zip.\n"
          ]
        }
      ]
    },
    {
      "cell_type": "code",
      "source": [
        "df=pd.read_csv(\"/content/drive/MyDrive/eng_-french.csv\")\n",
        "df.columns=[\"english\",\"frensh\"]\n",
        "df.head()\n"
      ],
      "metadata": {
        "colab": {
          "base_uri": "https://localhost:8080/",
          "height": 206
        },
        "id": "3VNgseen35Ff",
        "outputId": "117a84b5-adfa-4bc8-e69b-dd798ee4b4ac"
      },
      "execution_count": 4,
      "outputs": [
        {
          "output_type": "execute_result",
          "data": {
            "text/plain": [
              "  english      frensh\n",
              "0     Hi.      Salut!\n",
              "1    Run!     Cours !\n",
              "2    Run!    Courez !\n",
              "3    Who?       Qui ?\n",
              "4    Wow!  Ça alors !"
            ],
            "text/html": [
              "\n",
              "  <div id=\"df-da8a8936-522e-4a05-b8e1-83abe7595d63\" class=\"colab-df-container\">\n",
              "    <div>\n",
              "<style scoped>\n",
              "    .dataframe tbody tr th:only-of-type {\n",
              "        vertical-align: middle;\n",
              "    }\n",
              "\n",
              "    .dataframe tbody tr th {\n",
              "        vertical-align: top;\n",
              "    }\n",
              "\n",
              "    .dataframe thead th {\n",
              "        text-align: right;\n",
              "    }\n",
              "</style>\n",
              "<table border=\"1\" class=\"dataframe\">\n",
              "  <thead>\n",
              "    <tr style=\"text-align: right;\">\n",
              "      <th></th>\n",
              "      <th>english</th>\n",
              "      <th>frensh</th>\n",
              "    </tr>\n",
              "  </thead>\n",
              "  <tbody>\n",
              "    <tr>\n",
              "      <th>0</th>\n",
              "      <td>Hi.</td>\n",
              "      <td>Salut!</td>\n",
              "    </tr>\n",
              "    <tr>\n",
              "      <th>1</th>\n",
              "      <td>Run!</td>\n",
              "      <td>Cours !</td>\n",
              "    </tr>\n",
              "    <tr>\n",
              "      <th>2</th>\n",
              "      <td>Run!</td>\n",
              "      <td>Courez !</td>\n",
              "    </tr>\n",
              "    <tr>\n",
              "      <th>3</th>\n",
              "      <td>Who?</td>\n",
              "      <td>Qui ?</td>\n",
              "    </tr>\n",
              "    <tr>\n",
              "      <th>4</th>\n",
              "      <td>Wow!</td>\n",
              "      <td>Ça alors !</td>\n",
              "    </tr>\n",
              "  </tbody>\n",
              "</table>\n",
              "</div>\n",
              "    <div class=\"colab-df-buttons\">\n",
              "\n",
              "  <div class=\"colab-df-container\">\n",
              "    <button class=\"colab-df-convert\" onclick=\"convertToInteractive('df-da8a8936-522e-4a05-b8e1-83abe7595d63')\"\n",
              "            title=\"Convert this dataframe to an interactive table.\"\n",
              "            style=\"display:none;\">\n",
              "\n",
              "  <svg xmlns=\"http://www.w3.org/2000/svg\" height=\"24px\" viewBox=\"0 -960 960 960\">\n",
              "    <path d=\"M120-120v-720h720v720H120Zm60-500h600v-160H180v160Zm220 220h160v-160H400v160Zm0 220h160v-160H400v160ZM180-400h160v-160H180v160Zm440 0h160v-160H620v160ZM180-180h160v-160H180v160Zm440 0h160v-160H620v160Z\"/>\n",
              "  </svg>\n",
              "    </button>\n",
              "\n",
              "  <style>\n",
              "    .colab-df-container {\n",
              "      display:flex;\n",
              "      gap: 12px;\n",
              "    }\n",
              "\n",
              "    .colab-df-convert {\n",
              "      background-color: #E8F0FE;\n",
              "      border: none;\n",
              "      border-radius: 50%;\n",
              "      cursor: pointer;\n",
              "      display: none;\n",
              "      fill: #1967D2;\n",
              "      height: 32px;\n",
              "      padding: 0 0 0 0;\n",
              "      width: 32px;\n",
              "    }\n",
              "\n",
              "    .colab-df-convert:hover {\n",
              "      background-color: #E2EBFA;\n",
              "      box-shadow: 0px 1px 2px rgba(60, 64, 67, 0.3), 0px 1px 3px 1px rgba(60, 64, 67, 0.15);\n",
              "      fill: #174EA6;\n",
              "    }\n",
              "\n",
              "    .colab-df-buttons div {\n",
              "      margin-bottom: 4px;\n",
              "    }\n",
              "\n",
              "    [theme=dark] .colab-df-convert {\n",
              "      background-color: #3B4455;\n",
              "      fill: #D2E3FC;\n",
              "    }\n",
              "\n",
              "    [theme=dark] .colab-df-convert:hover {\n",
              "      background-color: #434B5C;\n",
              "      box-shadow: 0px 1px 3px 1px rgba(0, 0, 0, 0.15);\n",
              "      filter: drop-shadow(0px 1px 2px rgba(0, 0, 0, 0.3));\n",
              "      fill: #FFFFFF;\n",
              "    }\n",
              "  </style>\n",
              "\n",
              "    <script>\n",
              "      const buttonEl =\n",
              "        document.querySelector('#df-da8a8936-522e-4a05-b8e1-83abe7595d63 button.colab-df-convert');\n",
              "      buttonEl.style.display =\n",
              "        google.colab.kernel.accessAllowed ? 'block' : 'none';\n",
              "\n",
              "      async function convertToInteractive(key) {\n",
              "        const element = document.querySelector('#df-da8a8936-522e-4a05-b8e1-83abe7595d63');\n",
              "        const dataTable =\n",
              "          await google.colab.kernel.invokeFunction('convertToInteractive',\n",
              "                                                    [key], {});\n",
              "        if (!dataTable) return;\n",
              "\n",
              "        const docLinkHtml = 'Like what you see? Visit the ' +\n",
              "          '<a target=\"_blank\" href=https://colab.research.google.com/notebooks/data_table.ipynb>data table notebook</a>'\n",
              "          + ' to learn more about interactive tables.';\n",
              "        element.innerHTML = '';\n",
              "        dataTable['output_type'] = 'display_data';\n",
              "        await google.colab.output.renderOutput(dataTable, element);\n",
              "        const docLink = document.createElement('div');\n",
              "        docLink.innerHTML = docLinkHtml;\n",
              "        element.appendChild(docLink);\n",
              "      }\n",
              "    </script>\n",
              "  </div>\n",
              "\n",
              "\n",
              "<div id=\"df-afcc8625-37a0-4068-b6a2-c74e9f19ac99\">\n",
              "  <button class=\"colab-df-quickchart\" onclick=\"quickchart('df-afcc8625-37a0-4068-b6a2-c74e9f19ac99')\"\n",
              "            title=\"Suggest charts\"\n",
              "            style=\"display:none;\">\n",
              "\n",
              "<svg xmlns=\"http://www.w3.org/2000/svg\" height=\"24px\"viewBox=\"0 0 24 24\"\n",
              "     width=\"24px\">\n",
              "    <g>\n",
              "        <path d=\"M19 3H5c-1.1 0-2 .9-2 2v14c0 1.1.9 2 2 2h14c1.1 0 2-.9 2-2V5c0-1.1-.9-2-2-2zM9 17H7v-7h2v7zm4 0h-2V7h2v10zm4 0h-2v-4h2v4z\"/>\n",
              "    </g>\n",
              "</svg>\n",
              "  </button>\n",
              "\n",
              "<style>\n",
              "  .colab-df-quickchart {\n",
              "      --bg-color: #E8F0FE;\n",
              "      --fill-color: #1967D2;\n",
              "      --hover-bg-color: #E2EBFA;\n",
              "      --hover-fill-color: #174EA6;\n",
              "      --disabled-fill-color: #AAA;\n",
              "      --disabled-bg-color: #DDD;\n",
              "  }\n",
              "\n",
              "  [theme=dark] .colab-df-quickchart {\n",
              "      --bg-color: #3B4455;\n",
              "      --fill-color: #D2E3FC;\n",
              "      --hover-bg-color: #434B5C;\n",
              "      --hover-fill-color: #FFFFFF;\n",
              "      --disabled-bg-color: #3B4455;\n",
              "      --disabled-fill-color: #666;\n",
              "  }\n",
              "\n",
              "  .colab-df-quickchart {\n",
              "    background-color: var(--bg-color);\n",
              "    border: none;\n",
              "    border-radius: 50%;\n",
              "    cursor: pointer;\n",
              "    display: none;\n",
              "    fill: var(--fill-color);\n",
              "    height: 32px;\n",
              "    padding: 0;\n",
              "    width: 32px;\n",
              "  }\n",
              "\n",
              "  .colab-df-quickchart:hover {\n",
              "    background-color: var(--hover-bg-color);\n",
              "    box-shadow: 0 1px 2px rgba(60, 64, 67, 0.3), 0 1px 3px 1px rgba(60, 64, 67, 0.15);\n",
              "    fill: var(--button-hover-fill-color);\n",
              "  }\n",
              "\n",
              "  .colab-df-quickchart-complete:disabled,\n",
              "  .colab-df-quickchart-complete:disabled:hover {\n",
              "    background-color: var(--disabled-bg-color);\n",
              "    fill: var(--disabled-fill-color);\n",
              "    box-shadow: none;\n",
              "  }\n",
              "\n",
              "  .colab-df-spinner {\n",
              "    border: 2px solid var(--fill-color);\n",
              "    border-color: transparent;\n",
              "    border-bottom-color: var(--fill-color);\n",
              "    animation:\n",
              "      spin 1s steps(1) infinite;\n",
              "  }\n",
              "\n",
              "  @keyframes spin {\n",
              "    0% {\n",
              "      border-color: transparent;\n",
              "      border-bottom-color: var(--fill-color);\n",
              "      border-left-color: var(--fill-color);\n",
              "    }\n",
              "    20% {\n",
              "      border-color: transparent;\n",
              "      border-left-color: var(--fill-color);\n",
              "      border-top-color: var(--fill-color);\n",
              "    }\n",
              "    30% {\n",
              "      border-color: transparent;\n",
              "      border-left-color: var(--fill-color);\n",
              "      border-top-color: var(--fill-color);\n",
              "      border-right-color: var(--fill-color);\n",
              "    }\n",
              "    40% {\n",
              "      border-color: transparent;\n",
              "      border-right-color: var(--fill-color);\n",
              "      border-top-color: var(--fill-color);\n",
              "    }\n",
              "    60% {\n",
              "      border-color: transparent;\n",
              "      border-right-color: var(--fill-color);\n",
              "    }\n",
              "    80% {\n",
              "      border-color: transparent;\n",
              "      border-right-color: var(--fill-color);\n",
              "      border-bottom-color: var(--fill-color);\n",
              "    }\n",
              "    90% {\n",
              "      border-color: transparent;\n",
              "      border-bottom-color: var(--fill-color);\n",
              "    }\n",
              "  }\n",
              "</style>\n",
              "\n",
              "  <script>\n",
              "    async function quickchart(key) {\n",
              "      const quickchartButtonEl =\n",
              "        document.querySelector('#' + key + ' button');\n",
              "      quickchartButtonEl.disabled = true;  // To prevent multiple clicks.\n",
              "      quickchartButtonEl.classList.add('colab-df-spinner');\n",
              "      try {\n",
              "        const charts = await google.colab.kernel.invokeFunction(\n",
              "            'suggestCharts', [key], {});\n",
              "      } catch (error) {\n",
              "        console.error('Error during call to suggestCharts:', error);\n",
              "      }\n",
              "      quickchartButtonEl.classList.remove('colab-df-spinner');\n",
              "      quickchartButtonEl.classList.add('colab-df-quickchart-complete');\n",
              "    }\n",
              "    (() => {\n",
              "      let quickchartButtonEl =\n",
              "        document.querySelector('#df-afcc8625-37a0-4068-b6a2-c74e9f19ac99 button');\n",
              "      quickchartButtonEl.style.display =\n",
              "        google.colab.kernel.accessAllowed ? 'block' : 'none';\n",
              "    })();\n",
              "  </script>\n",
              "</div>\n",
              "    </div>\n",
              "  </div>\n"
            ],
            "application/vnd.google.colaboratory.intrinsic+json": {
              "type": "dataframe",
              "variable_name": "df"
            }
          },
          "metadata": {},
          "execution_count": 4
        }
      ]
    },
    {
      "cell_type": "code",
      "source": [
        "data=df[:]\n",
        "data.info()"
      ],
      "metadata": {
        "colab": {
          "base_uri": "https://localhost:8080/"
        },
        "id": "maLAZvgy4t7k",
        "outputId": "e3d6c961-7eb9-4ce7-b6a0-1c62106bb194"
      },
      "execution_count": 5,
      "outputs": [
        {
          "output_type": "stream",
          "name": "stdout",
          "text": [
            "<class 'pandas.core.frame.DataFrame'>\n",
            "RangeIndex: 175621 entries, 0 to 175620\n",
            "Data columns (total 2 columns):\n",
            " #   Column   Non-Null Count   Dtype \n",
            "---  ------   --------------   ----- \n",
            " 0   english  175621 non-null  object\n",
            " 1   frensh   175621 non-null  object\n",
            "dtypes: object(2)\n",
            "memory usage: 2.7+ MB\n"
          ]
        }
      ]
    },
    {
      "cell_type": "code",
      "source": [
        "# clean english column\n",
        "def clean_english(text):\n",
        "  text=text.lower() # lower case\n",
        "\n",
        "  # remove any characters not a-z and ?!,'\n",
        "  text=re.sub(u\"[^a-z!?',]\",\" \",text)\n",
        "\n",
        "  # word tokenization\n",
        "  text=nltk.word_tokenize(text)\n",
        "\n",
        "  # join text\n",
        "  text=\" \".join([i.strip() for i in text])\n",
        "\n",
        "  return text\n",
        "clean_english(data.iloc[0,0])"
      ],
      "metadata": {
        "colab": {
          "base_uri": "https://localhost:8080/",
          "height": 36
        },
        "id": "WSfJGNLM4yOh",
        "outputId": "48ccec67-97f0-4318-b974-f47c4d0a7d90"
      },
      "execution_count": 6,
      "outputs": [
        {
          "output_type": "execute_result",
          "data": {
            "text/plain": [
              "'hi'"
            ],
            "application/vnd.google.colaboratory.intrinsic+json": {
              "type": "string"
            }
          },
          "metadata": {},
          "execution_count": 6
        }
      ]
    },
    {
      "cell_type": "code",
      "source": [
        "data.iloc[1,0],clean_english(data.iloc[1,0])\n"
      ],
      "metadata": {
        "colab": {
          "base_uri": "https://localhost:8080/"
        },
        "id": "yeIM3SP342c2",
        "outputId": "2bbfcd4e-85f9-47d5-ec2b-2a6d542305d7"
      },
      "execution_count": 7,
      "outputs": [
        {
          "output_type": "execute_result",
          "data": {
            "text/plain": [
              "('Run!', 'run !')"
            ]
          },
          "metadata": {},
          "execution_count": 7
        }
      ]
    },
    {
      "cell_type": "code",
      "source": [
        "# clean frensh language\n",
        "def clean_frensh(text):\n",
        "  text=text.lower() # lower case\n",
        "\n",
        "  # remove any characters not a-z and ?!,'\n",
        "  # characters a-z and (éâàçêêëôîû) chars of frensh lang which contain accent\n",
        "  text=re.sub(u\"[^a-zéâàçêêëôîû!?',]\",\" \",text)\n",
        "\n",
        "  return text\n",
        "clean_frensh(data.iloc[0,1])"
      ],
      "metadata": {
        "colab": {
          "base_uri": "https://localhost:8080/",
          "height": 36
        },
        "id": "b_XDjXhk45up",
        "outputId": "4545e8c5-9ccf-4ba3-852a-61d6a721f63d"
      },
      "execution_count": 8,
      "outputs": [
        {
          "output_type": "execute_result",
          "data": {
            "text/plain": [
              "'salut!'"
            ],
            "application/vnd.google.colaboratory.intrinsic+json": {
              "type": "string"
            }
          },
          "metadata": {},
          "execution_count": 8
        }
      ]
    },
    {
      "cell_type": "code",
      "source": [
        "data.iloc[4,1],clean_frensh(data.iloc[4,1])"
      ],
      "metadata": {
        "colab": {
          "base_uri": "https://localhost:8080/"
        },
        "id": "hxxlY7Jb5CMq",
        "outputId": "301959f7-0740-4041-e2bf-a25dfab4abe0"
      },
      "execution_count": 9,
      "outputs": [
        {
          "output_type": "execute_result",
          "data": {
            "text/plain": [
              "('Ça alors\\u202f!', 'ça alors !')"
            ]
          },
          "metadata": {},
          "execution_count": 9
        }
      ]
    },
    {
      "cell_type": "code",
      "source": [
        "data.iloc[6,1],clean_frensh(data.iloc[6,1])"
      ],
      "metadata": {
        "colab": {
          "base_uri": "https://localhost:8080/"
        },
        "id": "NpFV3HXn5Fn_",
        "outputId": "51023cba-b0ea-419e-d3c1-3234e6f2b738"
      },
      "execution_count": 10,
      "outputs": [
        {
          "output_type": "execute_result",
          "data": {
            "text/plain": [
              "(\"À l'aide\\u202f!\", \"à l'aide !\")"
            ]
          },
          "metadata": {},
          "execution_count": 10
        }
      ]
    },
    {
      "cell_type": "code",
      "source": [
        "# i show this two functions are ready to apply in dataframe\n",
        "data[\"english\"]=data[\"english\"].apply(lambda txt:clean_english(txt))\n",
        "data[\"frensh\"]=data[\"frensh\"].apply(lambda txt:clean_frensh(txt))\n",
        "# add <start> <end> token to decoder sentence (Frensh)\n",
        "data[\"frensh\"]=data[\"frensh\"].apply(lambda txt:f\"<start> {txt} <end>\")"
      ],
      "metadata": {
        "id": "XcacrKsG5IsQ"
      },
      "execution_count": 11,
      "outputs": []
    },
    {
      "cell_type": "code",
      "source": [
        "data.sample(10)"
      ],
      "metadata": {
        "colab": {
          "base_uri": "https://localhost:8080/",
          "height": 363
        },
        "id": "azW3jWBH5OCI",
        "outputId": "18a8ece0-c955-4135-ea44-8c7b83fd6fb8"
      },
      "execution_count": 12,
      "outputs": [
        {
          "output_type": "execute_result",
          "data": {
            "text/plain": [
              "                                                english  \\\n",
              "154325     i 'm going to work out the problem by myself   \n",
              "57346                           this plan is fool proof   \n",
              "75309                       i ca n't make ends meet now   \n",
              "157620  i know you 're busy , but i could use some help   \n",
              "14693                                  i know he did it   \n",
              "104948                   she turned down his invitation   \n",
              "521                                           do it now   \n",
              "125834             is that what you really want to do ?   \n",
              "137423            i think this translation is incorrect   \n",
              "13145                                   you are the one   \n",
              "\n",
              "                                                   frensh  \n",
              "154325  <start> je vais résoudre le probl me moi même ...  \n",
              "57346               <start> ce plan est sans faute  <end>  \n",
              "75309   <start> je n'arrive pas à joindre les deux bou...  \n",
              "157620  <start> je sais que tu es occupée mais je ne r...  \n",
              "14693               <start> je sais qu'il l'a fait  <end>  \n",
              "104948         <start> elle déclina son invitation  <end>  \n",
              "521                   <start> faites le maintenant  <end>  \n",
              "125834  <start> est ce là ce que vous voulez vraiment ...  \n",
              "137423  <start> je pense que cette traduction est inco...  \n",
              "13145                          <start> tu es l'élu  <end>  "
            ],
            "text/html": [
              "\n",
              "  <div id=\"df-2f74d7c9-136f-4b31-9f07-50259f5917a8\" class=\"colab-df-container\">\n",
              "    <div>\n",
              "<style scoped>\n",
              "    .dataframe tbody tr th:only-of-type {\n",
              "        vertical-align: middle;\n",
              "    }\n",
              "\n",
              "    .dataframe tbody tr th {\n",
              "        vertical-align: top;\n",
              "    }\n",
              "\n",
              "    .dataframe thead th {\n",
              "        text-align: right;\n",
              "    }\n",
              "</style>\n",
              "<table border=\"1\" class=\"dataframe\">\n",
              "  <thead>\n",
              "    <tr style=\"text-align: right;\">\n",
              "      <th></th>\n",
              "      <th>english</th>\n",
              "      <th>frensh</th>\n",
              "    </tr>\n",
              "  </thead>\n",
              "  <tbody>\n",
              "    <tr>\n",
              "      <th>154325</th>\n",
              "      <td>i 'm going to work out the problem by myself</td>\n",
              "      <td>&lt;start&gt; je vais résoudre le probl me moi même ...</td>\n",
              "    </tr>\n",
              "    <tr>\n",
              "      <th>57346</th>\n",
              "      <td>this plan is fool proof</td>\n",
              "      <td>&lt;start&gt; ce plan est sans faute  &lt;end&gt;</td>\n",
              "    </tr>\n",
              "    <tr>\n",
              "      <th>75309</th>\n",
              "      <td>i ca n't make ends meet now</td>\n",
              "      <td>&lt;start&gt; je n'arrive pas à joindre les deux bou...</td>\n",
              "    </tr>\n",
              "    <tr>\n",
              "      <th>157620</th>\n",
              "      <td>i know you 're busy , but i could use some help</td>\n",
              "      <td>&lt;start&gt; je sais que tu es occupée mais je ne r...</td>\n",
              "    </tr>\n",
              "    <tr>\n",
              "      <th>14693</th>\n",
              "      <td>i know he did it</td>\n",
              "      <td>&lt;start&gt; je sais qu'il l'a fait  &lt;end&gt;</td>\n",
              "    </tr>\n",
              "    <tr>\n",
              "      <th>104948</th>\n",
              "      <td>she turned down his invitation</td>\n",
              "      <td>&lt;start&gt; elle déclina son invitation  &lt;end&gt;</td>\n",
              "    </tr>\n",
              "    <tr>\n",
              "      <th>521</th>\n",
              "      <td>do it now</td>\n",
              "      <td>&lt;start&gt; faites le maintenant  &lt;end&gt;</td>\n",
              "    </tr>\n",
              "    <tr>\n",
              "      <th>125834</th>\n",
              "      <td>is that what you really want to do ?</td>\n",
              "      <td>&lt;start&gt; est ce là ce que vous voulez vraiment ...</td>\n",
              "    </tr>\n",
              "    <tr>\n",
              "      <th>137423</th>\n",
              "      <td>i think this translation is incorrect</td>\n",
              "      <td>&lt;start&gt; je pense que cette traduction est inco...</td>\n",
              "    </tr>\n",
              "    <tr>\n",
              "      <th>13145</th>\n",
              "      <td>you are the one</td>\n",
              "      <td>&lt;start&gt; tu es l'élu  &lt;end&gt;</td>\n",
              "    </tr>\n",
              "  </tbody>\n",
              "</table>\n",
              "</div>\n",
              "    <div class=\"colab-df-buttons\">\n",
              "\n",
              "  <div class=\"colab-df-container\">\n",
              "    <button class=\"colab-df-convert\" onclick=\"convertToInteractive('df-2f74d7c9-136f-4b31-9f07-50259f5917a8')\"\n",
              "            title=\"Convert this dataframe to an interactive table.\"\n",
              "            style=\"display:none;\">\n",
              "\n",
              "  <svg xmlns=\"http://www.w3.org/2000/svg\" height=\"24px\" viewBox=\"0 -960 960 960\">\n",
              "    <path d=\"M120-120v-720h720v720H120Zm60-500h600v-160H180v160Zm220 220h160v-160H400v160Zm0 220h160v-160H400v160ZM180-400h160v-160H180v160Zm440 0h160v-160H620v160ZM180-180h160v-160H180v160Zm440 0h160v-160H620v160Z\"/>\n",
              "  </svg>\n",
              "    </button>\n",
              "\n",
              "  <style>\n",
              "    .colab-df-container {\n",
              "      display:flex;\n",
              "      gap: 12px;\n",
              "    }\n",
              "\n",
              "    .colab-df-convert {\n",
              "      background-color: #E8F0FE;\n",
              "      border: none;\n",
              "      border-radius: 50%;\n",
              "      cursor: pointer;\n",
              "      display: none;\n",
              "      fill: #1967D2;\n",
              "      height: 32px;\n",
              "      padding: 0 0 0 0;\n",
              "      width: 32px;\n",
              "    }\n",
              "\n",
              "    .colab-df-convert:hover {\n",
              "      background-color: #E2EBFA;\n",
              "      box-shadow: 0px 1px 2px rgba(60, 64, 67, 0.3), 0px 1px 3px 1px rgba(60, 64, 67, 0.15);\n",
              "      fill: #174EA6;\n",
              "    }\n",
              "\n",
              "    .colab-df-buttons div {\n",
              "      margin-bottom: 4px;\n",
              "    }\n",
              "\n",
              "    [theme=dark] .colab-df-convert {\n",
              "      background-color: #3B4455;\n",
              "      fill: #D2E3FC;\n",
              "    }\n",
              "\n",
              "    [theme=dark] .colab-df-convert:hover {\n",
              "      background-color: #434B5C;\n",
              "      box-shadow: 0px 1px 3px 1px rgba(0, 0, 0, 0.15);\n",
              "      filter: drop-shadow(0px 1px 2px rgba(0, 0, 0, 0.3));\n",
              "      fill: #FFFFFF;\n",
              "    }\n",
              "  </style>\n",
              "\n",
              "    <script>\n",
              "      const buttonEl =\n",
              "        document.querySelector('#df-2f74d7c9-136f-4b31-9f07-50259f5917a8 button.colab-df-convert');\n",
              "      buttonEl.style.display =\n",
              "        google.colab.kernel.accessAllowed ? 'block' : 'none';\n",
              "\n",
              "      async function convertToInteractive(key) {\n",
              "        const element = document.querySelector('#df-2f74d7c9-136f-4b31-9f07-50259f5917a8');\n",
              "        const dataTable =\n",
              "          await google.colab.kernel.invokeFunction('convertToInteractive',\n",
              "                                                    [key], {});\n",
              "        if (!dataTable) return;\n",
              "\n",
              "        const docLinkHtml = 'Like what you see? Visit the ' +\n",
              "          '<a target=\"_blank\" href=https://colab.research.google.com/notebooks/data_table.ipynb>data table notebook</a>'\n",
              "          + ' to learn more about interactive tables.';\n",
              "        element.innerHTML = '';\n",
              "        dataTable['output_type'] = 'display_data';\n",
              "        await google.colab.output.renderOutput(dataTable, element);\n",
              "        const docLink = document.createElement('div');\n",
              "        docLink.innerHTML = docLinkHtml;\n",
              "        element.appendChild(docLink);\n",
              "      }\n",
              "    </script>\n",
              "  </div>\n",
              "\n",
              "\n",
              "<div id=\"df-9d351d51-3b3b-4e3b-ab9c-a8703aa0ebb1\">\n",
              "  <button class=\"colab-df-quickchart\" onclick=\"quickchart('df-9d351d51-3b3b-4e3b-ab9c-a8703aa0ebb1')\"\n",
              "            title=\"Suggest charts\"\n",
              "            style=\"display:none;\">\n",
              "\n",
              "<svg xmlns=\"http://www.w3.org/2000/svg\" height=\"24px\"viewBox=\"0 0 24 24\"\n",
              "     width=\"24px\">\n",
              "    <g>\n",
              "        <path d=\"M19 3H5c-1.1 0-2 .9-2 2v14c0 1.1.9 2 2 2h14c1.1 0 2-.9 2-2V5c0-1.1-.9-2-2-2zM9 17H7v-7h2v7zm4 0h-2V7h2v10zm4 0h-2v-4h2v4z\"/>\n",
              "    </g>\n",
              "</svg>\n",
              "  </button>\n",
              "\n",
              "<style>\n",
              "  .colab-df-quickchart {\n",
              "      --bg-color: #E8F0FE;\n",
              "      --fill-color: #1967D2;\n",
              "      --hover-bg-color: #E2EBFA;\n",
              "      --hover-fill-color: #174EA6;\n",
              "      --disabled-fill-color: #AAA;\n",
              "      --disabled-bg-color: #DDD;\n",
              "  }\n",
              "\n",
              "  [theme=dark] .colab-df-quickchart {\n",
              "      --bg-color: #3B4455;\n",
              "      --fill-color: #D2E3FC;\n",
              "      --hover-bg-color: #434B5C;\n",
              "      --hover-fill-color: #FFFFFF;\n",
              "      --disabled-bg-color: #3B4455;\n",
              "      --disabled-fill-color: #666;\n",
              "  }\n",
              "\n",
              "  .colab-df-quickchart {\n",
              "    background-color: var(--bg-color);\n",
              "    border: none;\n",
              "    border-radius: 50%;\n",
              "    cursor: pointer;\n",
              "    display: none;\n",
              "    fill: var(--fill-color);\n",
              "    height: 32px;\n",
              "    padding: 0;\n",
              "    width: 32px;\n",
              "  }\n",
              "\n",
              "  .colab-df-quickchart:hover {\n",
              "    background-color: var(--hover-bg-color);\n",
              "    box-shadow: 0 1px 2px rgba(60, 64, 67, 0.3), 0 1px 3px 1px rgba(60, 64, 67, 0.15);\n",
              "    fill: var(--button-hover-fill-color);\n",
              "  }\n",
              "\n",
              "  .colab-df-quickchart-complete:disabled,\n",
              "  .colab-df-quickchart-complete:disabled:hover {\n",
              "    background-color: var(--disabled-bg-color);\n",
              "    fill: var(--disabled-fill-color);\n",
              "    box-shadow: none;\n",
              "  }\n",
              "\n",
              "  .colab-df-spinner {\n",
              "    border: 2px solid var(--fill-color);\n",
              "    border-color: transparent;\n",
              "    border-bottom-color: var(--fill-color);\n",
              "    animation:\n",
              "      spin 1s steps(1) infinite;\n",
              "  }\n",
              "\n",
              "  @keyframes spin {\n",
              "    0% {\n",
              "      border-color: transparent;\n",
              "      border-bottom-color: var(--fill-color);\n",
              "      border-left-color: var(--fill-color);\n",
              "    }\n",
              "    20% {\n",
              "      border-color: transparent;\n",
              "      border-left-color: var(--fill-color);\n",
              "      border-top-color: var(--fill-color);\n",
              "    }\n",
              "    30% {\n",
              "      border-color: transparent;\n",
              "      border-left-color: var(--fill-color);\n",
              "      border-top-color: var(--fill-color);\n",
              "      border-right-color: var(--fill-color);\n",
              "    }\n",
              "    40% {\n",
              "      border-color: transparent;\n",
              "      border-right-color: var(--fill-color);\n",
              "      border-top-color: var(--fill-color);\n",
              "    }\n",
              "    60% {\n",
              "      border-color: transparent;\n",
              "      border-right-color: var(--fill-color);\n",
              "    }\n",
              "    80% {\n",
              "      border-color: transparent;\n",
              "      border-right-color: var(--fill-color);\n",
              "      border-bottom-color: var(--fill-color);\n",
              "    }\n",
              "    90% {\n",
              "      border-color: transparent;\n",
              "      border-bottom-color: var(--fill-color);\n",
              "    }\n",
              "  }\n",
              "</style>\n",
              "\n",
              "  <script>\n",
              "    async function quickchart(key) {\n",
              "      const quickchartButtonEl =\n",
              "        document.querySelector('#' + key + ' button');\n",
              "      quickchartButtonEl.disabled = true;  // To prevent multiple clicks.\n",
              "      quickchartButtonEl.classList.add('colab-df-spinner');\n",
              "      try {\n",
              "        const charts = await google.colab.kernel.invokeFunction(\n",
              "            'suggestCharts', [key], {});\n",
              "      } catch (error) {\n",
              "        console.error('Error during call to suggestCharts:', error);\n",
              "      }\n",
              "      quickchartButtonEl.classList.remove('colab-df-spinner');\n",
              "      quickchartButtonEl.classList.add('colab-df-quickchart-complete');\n",
              "    }\n",
              "    (() => {\n",
              "      let quickchartButtonEl =\n",
              "        document.querySelector('#df-9d351d51-3b3b-4e3b-ab9c-a8703aa0ebb1 button');\n",
              "      quickchartButtonEl.style.display =\n",
              "        google.colab.kernel.accessAllowed ? 'block' : 'none';\n",
              "    })();\n",
              "  </script>\n",
              "</div>\n",
              "    </div>\n",
              "  </div>\n"
            ],
            "application/vnd.google.colaboratory.intrinsic+json": {
              "type": "dataframe",
              "summary": "{\n  \"name\": \"data\",\n  \"rows\": 10,\n  \"fields\": [\n    {\n      \"column\": \"english\",\n      \"properties\": {\n        \"dtype\": \"string\",\n        \"num_unique_values\": 10,\n        \"samples\": [\n          \"i think this translation is incorrect\",\n          \"this plan is fool proof\",\n          \"she turned down his invitation\"\n        ],\n        \"semantic_type\": \"\",\n        \"description\": \"\"\n      }\n    },\n    {\n      \"column\": \"frensh\",\n      \"properties\": {\n        \"dtype\": \"string\",\n        \"num_unique_values\": 10,\n        \"samples\": [\n          \"<start> je pense que cette traduction est incorrecte  <end>\",\n          \"<start> ce plan est sans faute  <end>\",\n          \"<start> elle d\\u00e9clina son invitation  <end>\"\n        ],\n        \"semantic_type\": \"\",\n        \"description\": \"\"\n      }\n    }\n  ]\n}"
            }
          },
          "metadata": {},
          "execution_count": 12
        }
      ]
    },
    {
      "cell_type": "code",
      "source": [
        "# english tokenizer\n",
        "english_tokenize=Tokenizer(filters='#$%&()*+,-./:;<=>@[\\\\]^_`{|}~\\t\\n')\n",
        "english_tokenize.fit_on_texts(data[\"english\"])"
      ],
      "metadata": {
        "id": "5LG7YC6L5WNj"
      },
      "execution_count": 13,
      "outputs": []
    },
    {
      "cell_type": "code",
      "source": [
        "num_encoder_tokens=len(english_tokenize.word_index)\n",
        "num_encoder_tokens"
      ],
      "metadata": {
        "colab": {
          "base_uri": "https://localhost:8080/"
        },
        "id": "kkP7wN-e5bRa",
        "outputId": "a6ea2148-42e9-4f7e-cb1b-dcc6e67254c9"
      },
      "execution_count": 14,
      "outputs": [
        {
          "output_type": "execute_result",
          "data": {
            "text/plain": [
              "13904"
            ]
          },
          "metadata": {},
          "execution_count": 14
        }
      ]
    },
    {
      "cell_type": "code",
      "source": [
        "encoder=english_tokenize.texts_to_sequences(data[\"english\"])\n",
        "encoder[:5]"
      ],
      "metadata": {
        "colab": {
          "base_uri": "https://localhost:8080/"
        },
        "id": "TtjcizBp5d4G",
        "outputId": "ab6637d3-4bb5-41ad-cc80-15192280402a"
      },
      "execution_count": 15,
      "outputs": [
        {
          "output_type": "execute_result",
          "data": {
            "text/plain": [
              "[[2745], [408, 124], [408, 124], [77, 5], [3483, 124]]"
            ]
          },
          "metadata": {},
          "execution_count": 15
        }
      ]
    },
    {
      "cell_type": "code",
      "source": [
        "max_encoder_sequence_len=np.max([len(enc) for enc in encoder])\n",
        "max_encoder_sequence_len"
      ],
      "metadata": {
        "colab": {
          "base_uri": "https://localhost:8080/"
        },
        "id": "azNTv2bR5geD",
        "outputId": "2f64a818-97c8-432f-fe2a-bdd46a61751e"
      },
      "execution_count": 16,
      "outputs": [
        {
          "output_type": "execute_result",
          "data": {
            "text/plain": [
              "47"
            ]
          },
          "metadata": {},
          "execution_count": 16
        }
      ]
    },
    {
      "cell_type": "code",
      "source": [
        "# frensh tokenizer\n",
        "french_tokenize=Tokenizer(filters=\"#$%&()*+,-./:;<=>@[\\\\]^_`{|}~\\t\\n\")\n",
        "french_tokenize.fit_on_texts(data[\"frensh\"])"
      ],
      "metadata": {
        "id": "S0VCFrEY5jjO"
      },
      "execution_count": 17,
      "outputs": []
    },
    {
      "cell_type": "code",
      "source": [
        "num_decoder_tokens=len(french_tokenize.word_index)\n",
        "num_decoder_tokens"
      ],
      "metadata": {
        "colab": {
          "base_uri": "https://localhost:8080/"
        },
        "id": "xd3zORso5mlj",
        "outputId": "18cae093-484a-4c5f-b509-dd1caa1c8bf4"
      },
      "execution_count": 18,
      "outputs": [
        {
          "output_type": "execute_result",
          "data": {
            "text/plain": [
              "26942"
            ]
          },
          "metadata": {},
          "execution_count": 18
        }
      ]
    },
    {
      "cell_type": "code",
      "source": [
        "decoder=french_tokenize.texts_to_sequences(data[\"frensh\"])\n",
        "decoder[:5]"
      ],
      "metadata": {
        "colab": {
          "base_uri": "https://localhost:8080/"
        },
        "id": "XF-LaIsL5pTf",
        "outputId": "a8fda409-d9fe-4fba-b646-d38acf383934"
      },
      "execution_count": 19,
      "outputs": [
        {
          "output_type": "execute_result",
          "data": {
            "text/plain": [
              "[[2, 16889, 1],\n",
              " [2, 572, 33, 1],\n",
              " [2, 5116, 33, 1],\n",
              " [2, 39, 6, 1],\n",
              " [2, 32, 393, 33, 1]]"
            ]
          },
          "metadata": {},
          "execution_count": 19
        }
      ]
    },
    {
      "cell_type": "code",
      "source": [
        "max_decoder_sequence_len=np.max([len(dec) for dec in decoder])\n",
        "max_decoder_sequence_len"
      ],
      "metadata": {
        "colab": {
          "base_uri": "https://localhost:8080/"
        },
        "id": "owcraNHL5ruE",
        "outputId": "9ec2f14a-d02b-4506-e184-d8bcef298bae"
      },
      "execution_count": 20,
      "outputs": [
        {
          "output_type": "execute_result",
          "data": {
            "text/plain": [
              "57"
            ]
          },
          "metadata": {},
          "execution_count": 20
        }
      ]
    },
    {
      "cell_type": "code",
      "source": [
        "idx_2_txt_decoder={k:i for i,k in french_tokenize.word_index.items()}\n",
        "idx_2_txt_decoder[1]"
      ],
      "metadata": {
        "colab": {
          "base_uri": "https://localhost:8080/",
          "height": 36
        },
        "id": "bFXAlJBN5vf-",
        "outputId": "9a9253c1-6522-4582-82f6-ffd41cec921a"
      },
      "execution_count": 21,
      "outputs": [
        {
          "output_type": "execute_result",
          "data": {
            "text/plain": [
              "'end'"
            ],
            "application/vnd.google.colaboratory.intrinsic+json": {
              "type": "string"
            }
          },
          "metadata": {},
          "execution_count": 21
        }
      ]
    },
    {
      "cell_type": "code",
      "source": [
        "idx_2_txt_encoder={k:i for i,k in english_tokenize.word_index.items()}\n",
        "idx_2_txt_encoder[2]"
      ],
      "metadata": {
        "colab": {
          "base_uri": "https://localhost:8080/",
          "height": 36
        },
        "id": "MmvXRBO45yEd",
        "outputId": "5ebff2cb-6b2c-47a3-c1ab-aac491fee16d"
      },
      "execution_count": 22,
      "outputs": [
        {
          "output_type": "execute_result",
          "data": {
            "text/plain": [
              "'you'"
            ],
            "application/vnd.google.colaboratory.intrinsic+json": {
              "type": "string"
            }
          },
          "metadata": {},
          "execution_count": 22
        }
      ]
    },
    {
      "cell_type": "code",
      "source": [
        "idx_2_txt_decoder[0]=\"<pad>\"\n",
        "idx_2_txt_encoder[0]=\"<pad>\""
      ],
      "metadata": {
        "id": "u3n6q13g50d2"
      },
      "execution_count": 23,
      "outputs": []
    },
    {
      "cell_type": "code",
      "source": [
        "encoder_seq=pad_sequences(encoder,maxlen=max_encoder_sequence_len,padding=\"post\")\n",
        "encoder_seq.shape"
      ],
      "metadata": {
        "colab": {
          "base_uri": "https://localhost:8080/"
        },
        "id": "Zr_xaur553XX",
        "outputId": "55cef3fd-527e-417a-ff5e-4ef140138c84"
      },
      "execution_count": 24,
      "outputs": [
        {
          "output_type": "execute_result",
          "data": {
            "text/plain": [
              "(175621, 47)"
            ]
          },
          "metadata": {},
          "execution_count": 24
        }
      ]
    },
    {
      "cell_type": "code",
      "source": [
        "decoder_inp=pad_sequences([arr[:-1] for arr in decoder],maxlen=max_decoder_sequence_len,padding=\"post\")\n",
        "decoder_inp.shape"
      ],
      "metadata": {
        "colab": {
          "base_uri": "https://localhost:8080/"
        },
        "id": "mT-DhtSQ58Ep",
        "outputId": "23b817ba-eba4-412e-ac58-f994b385af95"
      },
      "execution_count": 25,
      "outputs": [
        {
          "output_type": "execute_result",
          "data": {
            "text/plain": [
              "(175621, 57)"
            ]
          },
          "metadata": {},
          "execution_count": 25
        }
      ]
    },
    {
      "cell_type": "code",
      "source": [
        "decoder_output=pad_sequences([arr[1:] for arr in decoder],maxlen=max_decoder_sequence_len,padding=\"post\")\n",
        "decoder_output.shape"
      ],
      "metadata": {
        "colab": {
          "base_uri": "https://localhost:8080/"
        },
        "id": "GMm-snug5-zq",
        "outputId": "eb77d58a-76b7-47ad-b5c5-a3180a172ebf"
      },
      "execution_count": 26,
      "outputs": [
        {
          "output_type": "execute_result",
          "data": {
            "text/plain": [
              "(175621, 57)"
            ]
          },
          "metadata": {},
          "execution_count": 26
        }
      ]
    },
    {
      "cell_type": "code",
      "source": [
        "print([idx_2_txt_decoder[i] for i in decoder_output[0]])"
      ],
      "metadata": {
        "colab": {
          "base_uri": "https://localhost:8080/"
        },
        "id": "zI2rNf7K6Cry",
        "outputId": "7b128367-c887-49ea-b368-4869d043f7b8"
      },
      "execution_count": 27,
      "outputs": [
        {
          "output_type": "stream",
          "name": "stdout",
          "text": [
            "['salut!', 'end', '<pad>', '<pad>', '<pad>', '<pad>', '<pad>', '<pad>', '<pad>', '<pad>', '<pad>', '<pad>', '<pad>', '<pad>', '<pad>', '<pad>', '<pad>', '<pad>', '<pad>', '<pad>', '<pad>', '<pad>', '<pad>', '<pad>', '<pad>', '<pad>', '<pad>', '<pad>', '<pad>', '<pad>', '<pad>', '<pad>', '<pad>', '<pad>', '<pad>', '<pad>', '<pad>', '<pad>', '<pad>', '<pad>', '<pad>', '<pad>', '<pad>', '<pad>', '<pad>', '<pad>', '<pad>', '<pad>', '<pad>', '<pad>', '<pad>', '<pad>', '<pad>', '<pad>', '<pad>', '<pad>', '<pad>']\n"
          ]
        }
      ]
    },
    {
      "cell_type": "code",
      "source": [
        "print([idx_2_txt_encoder[i] for i in encoder_seq[0]])"
      ],
      "metadata": {
        "colab": {
          "base_uri": "https://localhost:8080/"
        },
        "id": "XTAv65SX6DzJ",
        "outputId": "9174f1a5-b49e-4b48-c0a2-9f2ee17cb30c"
      },
      "execution_count": 28,
      "outputs": [
        {
          "output_type": "stream",
          "name": "stdout",
          "text": [
            "['hi', '<pad>', '<pad>', '<pad>', '<pad>', '<pad>', '<pad>', '<pad>', '<pad>', '<pad>', '<pad>', '<pad>', '<pad>', '<pad>', '<pad>', '<pad>', '<pad>', '<pad>', '<pad>', '<pad>', '<pad>', '<pad>', '<pad>', '<pad>', '<pad>', '<pad>', '<pad>', '<pad>', '<pad>', '<pad>', '<pad>', '<pad>', '<pad>', '<pad>', '<pad>', '<pad>', '<pad>', '<pad>', '<pad>', '<pad>', '<pad>', '<pad>', '<pad>', '<pad>', '<pad>', '<pad>', '<pad>']\n"
          ]
        }
      ]
    },
    {
      "cell_type": "code",
      "source": [
        "# encoder model\n",
        "encoder_input=Input(shape=(None,),name=\"encoder_input_layer\")\n",
        "encoder_embedding=Embedding(num_encoder_tokens,300,input_length=max_encoder_sequence_len,name=\"encoder_embedding_layer\")(encoder_input)\n",
        "encoder_lstm=LSTM(256,activation=\"tanh\",return_sequences=True,return_state=True,name=\"encoder_lstm_1_layer\")(encoder_embedding)\n",
        "encoder_lstm2=LSTM(256,activation=\"tanh\",return_state=True,name=\"encoder_lstm_2_layer\")(encoder_lstm)\n",
        "_,state_h,state_c=encoder_lstm2\n",
        "encoder_states=[state_h,state_c]"
      ],
      "metadata": {
        "id": "aSym5kKq6KDX"
      },
      "execution_count": 29,
      "outputs": []
    },
    {
      "cell_type": "code",
      "source": [
        "# decoder model\n",
        "decoder_input=Input(shape=(None,),name=\"decoder_input_layer\")\n",
        "decoder_embedding=Embedding(num_decoder_tokens,300,input_length=max_decoder_sequence_len,name=\"decoder_embedding_layer\")(decoder_input)\n",
        "decoder_lstm=LSTM(256,activation=\"tanh\",return_state=True,return_sequences=True,name=\"decoder_lstm_layer\")\n",
        "decoder_outputs,_,_=decoder_lstm(decoder_embedding,initial_state=encoder_states)\n",
        "decoder_dense=Dense(num_decoder_tokens+1,activation=\"softmax\",name=\"deocer_final_layer\")\n",
        "outputs=decoder_dense(decoder_outputs)"
      ],
      "metadata": {
        "id": "zE6fav4a6Nuk"
      },
      "execution_count": 30,
      "outputs": []
    },
    {
      "cell_type": "code",
      "source": [
        "model=Model([encoder_input,decoder_input],outputs)\n",
        "model.summary()"
      ],
      "metadata": {
        "colab": {
          "base_uri": "https://localhost:8080/"
        },
        "id": "9P3uMDIl6S0d",
        "outputId": "68a59be8-c764-4010-fa25-e741c473975f"
      },
      "execution_count": 31,
      "outputs": [
        {
          "output_type": "stream",
          "name": "stdout",
          "text": [
            "Model: \"model\"\n",
            "__________________________________________________________________________________________________\n",
            " Layer (type)                Output Shape                 Param #   Connected to                  \n",
            "==================================================================================================\n",
            " encoder_input_layer (Input  [(None, None)]               0         []                            \n",
            " Layer)                                                                                           \n",
            "                                                                                                  \n",
            " encoder_embedding_layer (E  (None, None, 300)            4171200   ['encoder_input_layer[0][0]'] \n",
            " mbedding)                                                                                        \n",
            "                                                                                                  \n",
            " decoder_input_layer (Input  [(None, None)]               0         []                            \n",
            " Layer)                                                                                           \n",
            "                                                                                                  \n",
            " encoder_lstm_1_layer (LSTM  [(None, None, 256),          570368    ['encoder_embedding_layer[0][0\n",
            " )                            (None, 256),                          ]']                           \n",
            "                              (None, 256)]                                                        \n",
            "                                                                                                  \n",
            " decoder_embedding_layer (E  (None, None, 300)            8082600   ['decoder_input_layer[0][0]'] \n",
            " mbedding)                                                                                        \n",
            "                                                                                                  \n",
            " encoder_lstm_2_layer (LSTM  [(None, 256),                525312    ['encoder_lstm_1_layer[0][0]',\n",
            " )                            (None, 256),                           'encoder_lstm_1_layer[0][1]',\n",
            "                              (None, 256)]                           'encoder_lstm_1_layer[0][2]']\n",
            "                                                                                                  \n",
            " decoder_lstm_layer (LSTM)   [(None, None, 256),          570368    ['decoder_embedding_layer[0][0\n",
            "                              (None, 256),                          ]',                           \n",
            "                              (None, 256)]                           'encoder_lstm_2_layer[0][1]',\n",
            "                                                                     'encoder_lstm_2_layer[0][2]']\n",
            "                                                                                                  \n",
            " deocer_final_layer (Dense)  (None, None, 26943)          6924351   ['decoder_lstm_layer[0][0]']  \n",
            "                                                                                                  \n",
            "==================================================================================================\n",
            "Total params: 20844199 (79.51 MB)\n",
            "Trainable params: 20844199 (79.51 MB)\n",
            "Non-trainable params: 0 (0.00 Byte)\n",
            "__________________________________________________________________________________________________\n"
          ]
        }
      ]
    },
    {
      "cell_type": "code",
      "source": [
        "encoder_seq.shape,decoder_inp.shape,decoder_output.shape"
      ],
      "metadata": {
        "colab": {
          "base_uri": "https://localhost:8080/"
        },
        "id": "l_2e-pHy6VaP",
        "outputId": "e0dcd2c8-60ce-4d51-e6a3-a073d4d25a35"
      },
      "execution_count": 35,
      "outputs": [
        {
          "output_type": "execute_result",
          "data": {
            "text/plain": [
              "((175621, 47), (175621, 57), (175621, 57))"
            ]
          },
          "metadata": {},
          "execution_count": 35
        }
      ]
    },
    {
      "cell_type": "code",
      "source": [
        "import tensorflow as tf\n",
        "\n",
        "# Define the loss function\n",
        "loss = tf.keras.losses.SparseCategoricalCrossentropy()\n",
        "\n",
        "# Define the optimizer\n",
        "optimizer = tf.keras.optimizers.RMSprop()\n",
        "\n",
        "# Compile the model\n",
        "model.compile(optimizer=optimizer, loss=loss, metrics=['accuracy'])\n",
        "\n",
        "# Define early stopping callback\n",
        "callback = tf.keras.callbacks.EarlyStopping(monitor='loss', patience=3)\n",
        "\n",
        "# Train the model\n",
        "history = model.fit(\n",
        "    [encoder_seq, decoder_inp],\n",
        "    decoder_output,\n",
        "    epochs=5,\n",
        "    batch_size=128,  # Reducing batch size to conserve memory\n",
        "    callbacks=[callback]  # Including the early stopping callback\n",
        ")\n"
      ],
      "metadata": {
        "colab": {
          "base_uri": "https://localhost:8080/"
        },
        "id": "CLNma3NA9R9_",
        "outputId": "adaff0a2-fc86-4cb4-fc00-eefd8bcb8afc"
      },
      "execution_count": 38,
      "outputs": [
        {
          "output_type": "stream",
          "name": "stdout",
          "text": [
            "Epoch 1/5\n",
            "1373/1373 [==============================] - 301s 216ms/step - loss: 0.5708 - accuracy: 0.9079\n",
            "Epoch 2/5\n",
            "1373/1373 [==============================] - 293s 213ms/step - loss: 0.5526 - accuracy: 0.9101\n",
            "Epoch 3/5\n",
            "1373/1373 [==============================] - 293s 213ms/step - loss: 0.5362 - accuracy: 0.9123\n",
            "Epoch 4/5\n",
            "1373/1373 [==============================] - 294s 214ms/step - loss: 0.5212 - accuracy: 0.9142\n",
            "Epoch 5/5\n",
            "1373/1373 [==============================] - 293s 214ms/step - loss: 0.5077 - accuracy: 0.9159\n"
          ]
        }
      ]
    },
    {
      "cell_type": "code",
      "source": [
        "model.save(\"Translate_Eng_FR.h5\")"
      ],
      "metadata": {
        "colab": {
          "base_uri": "https://localhost:8080/"
        },
        "id": "3x15UK2ZNUmk",
        "outputId": "0d7cfd73-f07a-4101-cf94-b87858ef289e"
      },
      "execution_count": 39,
      "outputs": [
        {
          "output_type": "stream",
          "name": "stderr",
          "text": [
            "/usr/local/lib/python3.10/dist-packages/keras/src/engine/training.py:3103: UserWarning: You are saving your model as an HDF5 file via `model.save()`. This file format is considered legacy. We recommend using instead the native Keras format, e.g. `model.save('my_model.keras')`.\n",
            "  saving_api.save_model(\n"
          ]
        }
      ]
    },
    {
      "cell_type": "code",
      "source": [
        "model.save_weights(\"/kaggle/working/model_NMT\")"
      ],
      "metadata": {
        "id": "3FFlW5uRNpS_"
      },
      "execution_count": 40,
      "outputs": []
    },
    {
      "cell_type": "code",
      "source": [
        "def make_references():\n",
        "  encoder_reference_model=Model(encoder_input,encoder_states)\n",
        "\n",
        "  decoder_state_h=Input(shape=(256,))\n",
        "  decoder_state_c=Input(shape=(256,))\n",
        "  decoder_input_states=[decoder_state_h,decoder_state_c]\n",
        "\n",
        "  decoder_outputs,state_h,state_c=decoder_lstm(decoder_embedding,initial_state=decoder_input_states)\n",
        "\n",
        "  decoder_state=[state_h,state_c]\n",
        "  decoder_outputs=decoder_dense(decoder_outputs)\n",
        "  decoder_reference_model=Model([decoder_input]+decoder_input_states,[decoder_outputs]+decoder_state)\n",
        "\n",
        "  return encoder_reference_model,decoder_reference_model"
      ],
      "metadata": {
        "id": "91PfnlgjNt8Z"
      },
      "execution_count": 41,
      "outputs": []
    },
    {
      "cell_type": "code",
      "source": [
        "def prepare_text(text):\n",
        "  text=clean_english(text)\n",
        "\n",
        "  res=[english_tokenize.word_index[i] for i in text.split(\" \")]\n",
        "  pad=pad_sequences([res],maxlen=max_encoder_sequence_len,padding=\"post\")\n",
        "  return pad\n",
        "prepare_text(\"How are you\")"
      ],
      "metadata": {
        "colab": {
          "base_uri": "https://localhost:8080/"
        },
        "id": "l_-OAXZMN0xE",
        "outputId": "973ba71c-e5ba-4aa1-a5b7-3f097f46c6dd"
      },
      "execution_count": 42,
      "outputs": [
        {
          "output_type": "execute_result",
          "data": {
            "text/plain": [
              "array([[43, 23,  2,  0,  0,  0,  0,  0,  0,  0,  0,  0,  0,  0,  0,  0,\n",
              "         0,  0,  0,  0,  0,  0,  0,  0,  0,  0,  0,  0,  0,  0,  0,  0,\n",
              "         0,  0,  0,  0,  0,  0,  0,  0,  0,  0,  0,  0,  0,  0,  0]],\n",
              "      dtype=int32)"
            ]
          },
          "metadata": {},
          "execution_count": 42
        }
      ]
    },
    {
      "cell_type": "code",
      "source": [
        "for i in range(20):\n",
        "    enc_model,dec_model=make_references()\n",
        "\n",
        "    states_value=enc_model(prepare_text(input(\"Enter text :- \")))\n",
        "\n",
        "    empty_target_seq=np.zeros((1,1))\n",
        "    empty_target_seq[0,0]=french_tokenize.word_index[\"start\"]\n",
        "\n",
        "    stop_condition=False\n",
        "    decoded_translaition=\"\"\n",
        "\n",
        "    while not stop_condition:\n",
        "      dec_output,h,c=dec_model.predict([empty_target_seq]+states_value)\n",
        "      sampled_word_index=np.argmax(dec_output[0,-1,:])\n",
        "      sampled_word=None\n",
        "\n",
        "      for word,index in french_tokenize.word_index.items():\n",
        "        if sampled_word_index == index:\n",
        "          decoded_translaition+=' {}'.format(word)\n",
        "          sampled_word=word\n",
        "\n",
        "        if sampled_word == \"end\" or len(decoded_translaition.split(\" \")) >= max_decoder_sequence_len:\n",
        "          stop_condition=True\n",
        "\n",
        "      empty_target_seq=np.zeros((1,1))\n",
        "      empty_target_seq[0,0]=sampled_word_index\n",
        "      states_value=[h,c]\n",
        "    print(decoded_translaition)"
      ],
      "metadata": {
        "colab": {
          "base_uri": "https://localhost:8080/"
        },
        "id": "R_-8kG3pN5fV",
        "outputId": "4e6ad806-4628-4e43-d1bc-f75796b8b284"
      },
      "execution_count": null,
      "outputs": [
        {
          "output_type": "stream",
          "name": "stdout",
          "text": [
            "Enter text :- come\n",
            "1/1 [==============================] - 0s 420ms/step\n",
            "1/1 [==============================] - 0s 26ms/step\n",
            "1/1 [==============================] - 0s 29ms/step\n",
            " soyez ! end\n",
            "Enter text :- go\n",
            "1/1 [==============================] - 0s 369ms/step\n",
            "1/1 [==============================] - 0s 19ms/step\n",
            "1/1 [==============================] - 0s 18ms/step\n",
            " soyez ! end\n",
            "Enter text :- are you coming\n",
            "1/1 [==============================] - 0s 338ms/step\n",
            "1/1 [==============================] - 0s 20ms/step\n",
            "1/1 [==============================] - 0s 44ms/step\n",
            "1/1 [==============================] - 0s 26ms/step\n",
            "1/1 [==============================] - 0s 19ms/step\n",
            " vous êtes tr s end\n",
            "Enter text :- happy birthday\n",
            "1/1 [==============================] - 0s 343ms/step\n",
            "1/1 [==============================] - 0s 18ms/step\n",
            "1/1 [==============================] - 0s 19ms/step\n",
            "1/1 [==============================] - 0s 18ms/step\n",
            "1/1 [==============================] - 0s 17ms/step\n",
            " soyez de la maison end\n"
          ]
        }
      ]
    }
  ]
}